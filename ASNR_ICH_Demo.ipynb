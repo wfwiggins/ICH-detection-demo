{
  "cells": [
    {
      "cell_type": "markdown",
      "metadata": {
        "id": "view-in-github",
        "colab_type": "text"
      },
      "source": [
        "<a href=\"https://colab.research.google.com/github/wfwiggins/ICH-detection-demo/blob/main/ASNR_ICH_Demo.ipynb\" target=\"_parent\"><img src=\"https://colab.research.google.com/assets/colab-badge.svg\" alt=\"Open In Colab\"/></a>"
      ]
    },
    {
      "cell_type": "markdown",
      "source": [
        "# How to Build an AI Model\n",
        "## An example with Intracranial Hemorrhage Detection\n",
        "\n",
        "Author: Walter F. Wiggins, MD, PhD\n",
        "\n",
        "Email: walter.wiggins@duke.edu\n",
        "\n",
        "Acknowledgements:\n",
        "- 2019 Kaggle-RSNA Intracranial Hemorrhage Detection Challenge - original dataset\n",
        "- Jeremy Howard (from fast.ai) - reduced size dataset amenable to this demonstration"
      ],
      "metadata": {
        "id": "a6GulKylxkyb"
      }
    },
    {
      "cell_type": "markdown",
      "metadata": {
        "id": "Rc5nvoYSKNqG"
      },
      "source": [
        "## Environment Setup & Data Download"
      ]
    },
    {
      "cell_type": "code",
      "execution_count": 1,
      "metadata": {
        "colab": {
          "base_uri": "https://localhost:8080/"
        },
        "id": "Pd4vLcj6BIEB",
        "outputId": "0d80471b-1af6-4899-d7ba-12647313ff7a",
        "cellView": "form"
      },
      "outputs": [
        {
          "output_type": "stream",
          "name": "stdout",
          "text": [
            "\u001b[?25l\r\u001b[K     |▏                               | 10 kB 26.4 MB/s eta 0:00:01\r\u001b[K     |▍                               | 20 kB 13.7 MB/s eta 0:00:01\r\u001b[K     |▌                               | 30 kB 10.1 MB/s eta 0:00:01\r\u001b[K     |▊                               | 40 kB 10.9 MB/s eta 0:00:01\r\u001b[K     |▉                               | 51 kB 7.8 MB/s eta 0:00:01\r\u001b[K     |█                               | 61 kB 9.2 MB/s eta 0:00:01\r\u001b[K     |█▏                              | 71 kB 8.8 MB/s eta 0:00:01\r\u001b[K     |█▍                              | 81 kB 9.2 MB/s eta 0:00:01\r\u001b[K     |█▌                              | 92 kB 10.1 MB/s eta 0:00:01\r\u001b[K     |█▊                              | 102 kB 10.0 MB/s eta 0:00:01\r\u001b[K     |█▉                              | 112 kB 10.0 MB/s eta 0:00:01\r\u001b[K     |██                              | 122 kB 10.0 MB/s eta 0:00:01\r\u001b[K     |██▏                             | 133 kB 10.0 MB/s eta 0:00:01\r\u001b[K     |██▍                             | 143 kB 10.0 MB/s eta 0:00:01\r\u001b[K     |██▌                             | 153 kB 10.0 MB/s eta 0:00:01\r\u001b[K     |██▊                             | 163 kB 10.0 MB/s eta 0:00:01\r\u001b[K     |██▉                             | 174 kB 10.0 MB/s eta 0:00:01\r\u001b[K     |███                             | 184 kB 10.0 MB/s eta 0:00:01\r\u001b[K     |███▏                            | 194 kB 10.0 MB/s eta 0:00:01\r\u001b[K     |███▍                            | 204 kB 10.0 MB/s eta 0:00:01\r\u001b[K     |███▌                            | 215 kB 10.0 MB/s eta 0:00:01\r\u001b[K     |███▊                            | 225 kB 10.0 MB/s eta 0:00:01\r\u001b[K     |███▉                            | 235 kB 10.0 MB/s eta 0:00:01\r\u001b[K     |████                            | 245 kB 10.0 MB/s eta 0:00:01\r\u001b[K     |████▏                           | 256 kB 10.0 MB/s eta 0:00:01\r\u001b[K     |████▍                           | 266 kB 10.0 MB/s eta 0:00:01\r\u001b[K     |████▌                           | 276 kB 10.0 MB/s eta 0:00:01\r\u001b[K     |████▊                           | 286 kB 10.0 MB/s eta 0:00:01\r\u001b[K     |████▉                           | 296 kB 10.0 MB/s eta 0:00:01\r\u001b[K     |█████                           | 307 kB 10.0 MB/s eta 0:00:01\r\u001b[K     |█████▏                          | 317 kB 10.0 MB/s eta 0:00:01\r\u001b[K     |█████▍                          | 327 kB 10.0 MB/s eta 0:00:01\r\u001b[K     |█████▌                          | 337 kB 10.0 MB/s eta 0:00:01\r\u001b[K     |█████▊                          | 348 kB 10.0 MB/s eta 0:00:01\r\u001b[K     |█████▉                          | 358 kB 10.0 MB/s eta 0:00:01\r\u001b[K     |██████                          | 368 kB 10.0 MB/s eta 0:00:01\r\u001b[K     |██████▏                         | 378 kB 10.0 MB/s eta 0:00:01\r\u001b[K     |██████▍                         | 389 kB 10.0 MB/s eta 0:00:01\r\u001b[K     |██████▌                         | 399 kB 10.0 MB/s eta 0:00:01\r\u001b[K     |██████▊                         | 409 kB 10.0 MB/s eta 0:00:01\r\u001b[K     |██████▉                         | 419 kB 10.0 MB/s eta 0:00:01\r\u001b[K     |███████                         | 430 kB 10.0 MB/s eta 0:00:01\r\u001b[K     |███████▏                        | 440 kB 10.0 MB/s eta 0:00:01\r\u001b[K     |███████▍                        | 450 kB 10.0 MB/s eta 0:00:01\r\u001b[K     |███████▌                        | 460 kB 10.0 MB/s eta 0:00:01\r\u001b[K     |███████▊                        | 471 kB 10.0 MB/s eta 0:00:01\r\u001b[K     |███████▉                        | 481 kB 10.0 MB/s eta 0:00:01\r\u001b[K     |████████                        | 491 kB 10.0 MB/s eta 0:00:01\r\u001b[K     |████████▏                       | 501 kB 10.0 MB/s eta 0:00:01\r\u001b[K     |████████▍                       | 512 kB 10.0 MB/s eta 0:00:01\r\u001b[K     |████████▌                       | 522 kB 10.0 MB/s eta 0:00:01\r\u001b[K     |████████▊                       | 532 kB 10.0 MB/s eta 0:00:01\r\u001b[K     |████████▉                       | 542 kB 10.0 MB/s eta 0:00:01\r\u001b[K     |█████████                       | 552 kB 10.0 MB/s eta 0:00:01\r\u001b[K     |█████████▏                      | 563 kB 10.0 MB/s eta 0:00:01\r\u001b[K     |█████████▍                      | 573 kB 10.0 MB/s eta 0:00:01\r\u001b[K     |█████████▌                      | 583 kB 10.0 MB/s eta 0:00:01\r\u001b[K     |█████████▊                      | 593 kB 10.0 MB/s eta 0:00:01\r\u001b[K     |█████████▉                      | 604 kB 10.0 MB/s eta 0:00:01\r\u001b[K     |██████████                      | 614 kB 10.0 MB/s eta 0:00:01\r\u001b[K     |██████████▏                     | 624 kB 10.0 MB/s eta 0:00:01\r\u001b[K     |██████████▍                     | 634 kB 10.0 MB/s eta 0:00:01\r\u001b[K     |██████████▌                     | 645 kB 10.0 MB/s eta 0:00:01\r\u001b[K     |██████████▊                     | 655 kB 10.0 MB/s eta 0:00:01\r\u001b[K     |██████████▉                     | 665 kB 10.0 MB/s eta 0:00:01\r\u001b[K     |███████████                     | 675 kB 10.0 MB/s eta 0:00:01\r\u001b[K     |███████████▏                    | 686 kB 10.0 MB/s eta 0:00:01\r\u001b[K     |███████████▍                    | 696 kB 10.0 MB/s eta 0:00:01\r\u001b[K     |███████████▌                    | 706 kB 10.0 MB/s eta 0:00:01\r\u001b[K     |███████████▊                    | 716 kB 10.0 MB/s eta 0:00:01\r\u001b[K     |███████████▉                    | 727 kB 10.0 MB/s eta 0:00:01\r\u001b[K     |████████████                    | 737 kB 10.0 MB/s eta 0:00:01\r\u001b[K     |████████████▏                   | 747 kB 10.0 MB/s eta 0:00:01\r\u001b[K     |████████████▍                   | 757 kB 10.0 MB/s eta 0:00:01\r\u001b[K     |████████████▌                   | 768 kB 10.0 MB/s eta 0:00:01\r\u001b[K     |████████████▊                   | 778 kB 10.0 MB/s eta 0:00:01\r\u001b[K     |████████████▉                   | 788 kB 10.0 MB/s eta 0:00:01\r\u001b[K     |█████████████                   | 798 kB 10.0 MB/s eta 0:00:01\r\u001b[K     |█████████████▏                  | 808 kB 10.0 MB/s eta 0:00:01\r\u001b[K     |█████████████▍                  | 819 kB 10.0 MB/s eta 0:00:01\r\u001b[K     |█████████████▌                  | 829 kB 10.0 MB/s eta 0:00:01\r\u001b[K     |█████████████▊                  | 839 kB 10.0 MB/s eta 0:00:01\r\u001b[K     |█████████████▉                  | 849 kB 10.0 MB/s eta 0:00:01\r\u001b[K     |██████████████                  | 860 kB 10.0 MB/s eta 0:00:01\r\u001b[K     |██████████████▏                 | 870 kB 10.0 MB/s eta 0:00:01\r\u001b[K     |██████████████▍                 | 880 kB 10.0 MB/s eta 0:00:01\r\u001b[K     |██████████████▌                 | 890 kB 10.0 MB/s eta 0:00:01\r\u001b[K     |██████████████▊                 | 901 kB 10.0 MB/s eta 0:00:01\r\u001b[K     |██████████████▉                 | 911 kB 10.0 MB/s eta 0:00:01\r\u001b[K     |███████████████                 | 921 kB 10.0 MB/s eta 0:00:01\r\u001b[K     |███████████████▏                | 931 kB 10.0 MB/s eta 0:00:01\r\u001b[K     |███████████████▍                | 942 kB 10.0 MB/s eta 0:00:01\r\u001b[K     |███████████████▌                | 952 kB 10.0 MB/s eta 0:00:01\r\u001b[K     |███████████████▊                | 962 kB 10.0 MB/s eta 0:00:01\r\u001b[K     |███████████████▉                | 972 kB 10.0 MB/s eta 0:00:01\r\u001b[K     |████████████████                | 983 kB 10.0 MB/s eta 0:00:01\r\u001b[K     |████████████████▏               | 993 kB 10.0 MB/s eta 0:00:01\r\u001b[K     |████████████████▍               | 1.0 MB 10.0 MB/s eta 0:00:01\r\u001b[K     |████████████████▌               | 1.0 MB 10.0 MB/s eta 0:00:01\r\u001b[K     |████████████████▊               | 1.0 MB 10.0 MB/s eta 0:00:01\r\u001b[K     |████████████████▉               | 1.0 MB 10.0 MB/s eta 0:00:01\r\u001b[K     |█████████████████               | 1.0 MB 10.0 MB/s eta 0:00:01\r\u001b[K     |█████████████████▏              | 1.1 MB 10.0 MB/s eta 0:00:01\r\u001b[K     |█████████████████▍              | 1.1 MB 10.0 MB/s eta 0:00:01\r\u001b[K     |█████████████████▌              | 1.1 MB 10.0 MB/s eta 0:00:01\r\u001b[K     |█████████████████▊              | 1.1 MB 10.0 MB/s eta 0:00:01\r\u001b[K     |█████████████████▉              | 1.1 MB 10.0 MB/s eta 0:00:01\r\u001b[K     |██████████████████              | 1.1 MB 10.0 MB/s eta 0:00:01\r\u001b[K     |██████████████████▏             | 1.1 MB 10.0 MB/s eta 0:00:01\r\u001b[K     |██████████████████▍             | 1.1 MB 10.0 MB/s eta 0:00:01\r\u001b[K     |██████████████████▌             | 1.1 MB 10.0 MB/s eta 0:00:01\r\u001b[K     |██████████████████▊             | 1.1 MB 10.0 MB/s eta 0:00:01\r\u001b[K     |██████████████████▉             | 1.2 MB 10.0 MB/s eta 0:00:01\r\u001b[K     |███████████████████             | 1.2 MB 10.0 MB/s eta 0:00:01\r\u001b[K     |███████████████████▏            | 1.2 MB 10.0 MB/s eta 0:00:01\r\u001b[K     |███████████████████▍            | 1.2 MB 10.0 MB/s eta 0:00:01\r\u001b[K     |███████████████████▌            | 1.2 MB 10.0 MB/s eta 0:00:01\r\u001b[K     |███████████████████▊            | 1.2 MB 10.0 MB/s eta 0:00:01\r\u001b[K     |███████████████████▉            | 1.2 MB 10.0 MB/s eta 0:00:01\r\u001b[K     |████████████████████            | 1.2 MB 10.0 MB/s eta 0:00:01\r\u001b[K     |████████████████████▏           | 1.2 MB 10.0 MB/s eta 0:00:01\r\u001b[K     |████████████████████▍           | 1.2 MB 10.0 MB/s eta 0:00:01\r\u001b[K     |████████████████████▌           | 1.3 MB 10.0 MB/s eta 0:00:01\r\u001b[K     |████████████████████▊           | 1.3 MB 10.0 MB/s eta 0:00:01\r\u001b[K     |████████████████████▉           | 1.3 MB 10.0 MB/s eta 0:00:01\r\u001b[K     |█████████████████████           | 1.3 MB 10.0 MB/s eta 0:00:01\r\u001b[K     |█████████████████████▏          | 1.3 MB 10.0 MB/s eta 0:00:01\r\u001b[K     |█████████████████████▍          | 1.3 MB 10.0 MB/s eta 0:00:01\r\u001b[K     |█████████████████████▌          | 1.3 MB 10.0 MB/s eta 0:00:01\r\u001b[K     |█████████████████████▊          | 1.3 MB 10.0 MB/s eta 0:00:01\r\u001b[K     |█████████████████████▉          | 1.3 MB 10.0 MB/s eta 0:00:01\r\u001b[K     |██████████████████████          | 1.4 MB 10.0 MB/s eta 0:00:01\r\u001b[K     |██████████████████████▏         | 1.4 MB 10.0 MB/s eta 0:00:01\r\u001b[K     |██████████████████████▍         | 1.4 MB 10.0 MB/s eta 0:00:01\r\u001b[K     |██████████████████████▌         | 1.4 MB 10.0 MB/s eta 0:00:01\r\u001b[K     |██████████████████████▊         | 1.4 MB 10.0 MB/s eta 0:00:01\r\u001b[K     |██████████████████████▉         | 1.4 MB 10.0 MB/s eta 0:00:01\r\u001b[K     |███████████████████████         | 1.4 MB 10.0 MB/s eta 0:00:01\r\u001b[K     |███████████████████████▏        | 1.4 MB 10.0 MB/s eta 0:00:01\r\u001b[K     |███████████████████████▍        | 1.4 MB 10.0 MB/s eta 0:00:01\r\u001b[K     |███████████████████████▌        | 1.4 MB 10.0 MB/s eta 0:00:01\r\u001b[K     |███████████████████████▊        | 1.5 MB 10.0 MB/s eta 0:00:01\r\u001b[K     |███████████████████████▉        | 1.5 MB 10.0 MB/s eta 0:00:01\r\u001b[K     |████████████████████████        | 1.5 MB 10.0 MB/s eta 0:00:01\r\u001b[K     |████████████████████████▏       | 1.5 MB 10.0 MB/s eta 0:00:01\r\u001b[K     |████████████████████████▍       | 1.5 MB 10.0 MB/s eta 0:00:01\r\u001b[K     |████████████████████████▌       | 1.5 MB 10.0 MB/s eta 0:00:01\r\u001b[K     |████████████████████████▊       | 1.5 MB 10.0 MB/s eta 0:00:01\r\u001b[K     |████████████████████████▉       | 1.5 MB 10.0 MB/s eta 0:00:01\r\u001b[K     |█████████████████████████       | 1.5 MB 10.0 MB/s eta 0:00:01\r\u001b[K     |█████████████████████████▏      | 1.5 MB 10.0 MB/s eta 0:00:01\r\u001b[K     |█████████████████████████▍      | 1.6 MB 10.0 MB/s eta 0:00:01\r\u001b[K     |█████████████████████████▌      | 1.6 MB 10.0 MB/s eta 0:00:01\r\u001b[K     |█████████████████████████▊      | 1.6 MB 10.0 MB/s eta 0:00:01\r\u001b[K     |█████████████████████████▉      | 1.6 MB 10.0 MB/s eta 0:00:01\r\u001b[K     |██████████████████████████      | 1.6 MB 10.0 MB/s eta 0:00:01\r\u001b[K     |██████████████████████████▏     | 1.6 MB 10.0 MB/s eta 0:00:01\r\u001b[K     |██████████████████████████▍     | 1.6 MB 10.0 MB/s eta 0:00:01\r\u001b[K     |██████████████████████████▌     | 1.6 MB 10.0 MB/s eta 0:00:01\r\u001b[K     |██████████████████████████▊     | 1.6 MB 10.0 MB/s eta 0:00:01\r\u001b[K     |██████████████████████████▉     | 1.6 MB 10.0 MB/s eta 0:00:01\r\u001b[K     |███████████████████████████     | 1.7 MB 10.0 MB/s eta 0:00:01\r\u001b[K     |███████████████████████████▏    | 1.7 MB 10.0 MB/s eta 0:00:01\r\u001b[K     |███████████████████████████▍    | 1.7 MB 10.0 MB/s eta 0:00:01\r\u001b[K     |███████████████████████████▌    | 1.7 MB 10.0 MB/s eta 0:00:01\r\u001b[K     |███████████████████████████▊    | 1.7 MB 10.0 MB/s eta 0:00:01\r\u001b[K     |███████████████████████████▉    | 1.7 MB 10.0 MB/s eta 0:00:01\r\u001b[K     |████████████████████████████    | 1.7 MB 10.0 MB/s eta 0:00:01\r\u001b[K     |████████████████████████████▏   | 1.7 MB 10.0 MB/s eta 0:00:01\r\u001b[K     |████████████████████████████▍   | 1.7 MB 10.0 MB/s eta 0:00:01\r\u001b[K     |████████████████████████████▌   | 1.8 MB 10.0 MB/s eta 0:00:01\r\u001b[K     |████████████████████████████▊   | 1.8 MB 10.0 MB/s eta 0:00:01\r\u001b[K     |████████████████████████████▉   | 1.8 MB 10.0 MB/s eta 0:00:01\r\u001b[K     |█████████████████████████████   | 1.8 MB 10.0 MB/s eta 0:00:01\r\u001b[K     |█████████████████████████████▏  | 1.8 MB 10.0 MB/s eta 0:00:01\r\u001b[K     |█████████████████████████████▍  | 1.8 MB 10.0 MB/s eta 0:00:01\r\u001b[K     |█████████████████████████████▌  | 1.8 MB 10.0 MB/s eta 0:00:01\r\u001b[K     |█████████████████████████████▊  | 1.8 MB 10.0 MB/s eta 0:00:01\r\u001b[K     |█████████████████████████████▉  | 1.8 MB 10.0 MB/s eta 0:00:01\r\u001b[K     |██████████████████████████████  | 1.8 MB 10.0 MB/s eta 0:00:01\r\u001b[K     |██████████████████████████████▏ | 1.9 MB 10.0 MB/s eta 0:00:01\r\u001b[K     |██████████████████████████████▍ | 1.9 MB 10.0 MB/s eta 0:00:01\r\u001b[K     |██████████████████████████████▌ | 1.9 MB 10.0 MB/s eta 0:00:01\r\u001b[K     |██████████████████████████████▊ | 1.9 MB 10.0 MB/s eta 0:00:01\r\u001b[K     |██████████████████████████████▉ | 1.9 MB 10.0 MB/s eta 0:00:01\r\u001b[K     |███████████████████████████████ | 1.9 MB 10.0 MB/s eta 0:00:01\r\u001b[K     |███████████████████████████████▏| 1.9 MB 10.0 MB/s eta 0:00:01\r\u001b[K     |███████████████████████████████▍| 1.9 MB 10.0 MB/s eta 0:00:01\r\u001b[K     |███████████████████████████████▌| 1.9 MB 10.0 MB/s eta 0:00:01\r\u001b[K     |███████████████████████████████▊| 1.9 MB 10.0 MB/s eta 0:00:01\r\u001b[K     |███████████████████████████████▉| 2.0 MB 10.0 MB/s eta 0:00:01\r\u001b[K     |████████████████████████████████| 2.0 MB 10.0 MB/s \n",
            "\u001b[?25h"
          ]
        }
      ],
      "source": [
        "#@title Basic Setup\n",
        "#@markdown - Install required Python libraries\n",
        "#@markdown - Download files from demonstration GitHub repository\n",
        "\n",
        "import warnings\n",
        "warnings.filterwarnings(\"ignore\")\n",
        "\n",
        "import os, glob, re, random\n",
        "import numpy as np\n",
        "import pandas as pd\n",
        "import matplotlib\n",
        "import matplotlib.pyplot as plt\n",
        "from matplotlib.patches import Rectangle\n",
        "import seaborn as sns\n",
        "import cv2\n",
        "from PIL import Image\n",
        "\n",
        "import torch\n",
        "import torch.nn as nn\n",
        "import torch.nn.functional as F\n",
        "from torch.utils.data import Dataset, DataLoader, random_split\n",
        "from torchvision.transforms import Compose, Resize, ToTensor\n",
        "from torchvision.models import resnet18\n",
        "\n",
        "from collections import defaultdict\n",
        "from sklearn.metrics import accuracy_score\n",
        "\n",
        "!pip install pydicom -q\n",
        "\n",
        "import pydicom\n",
        "\n",
        "matplotlib.rcParams['image.cmap'] = 'bone'\n"
      ]
    },
    {
      "cell_type": "code",
      "source": [
        "#@title For the Live Demonstration Only!\n",
        "\n",
        "#@markdown Run this cell to download and configure a token for the Kaggle *application programming interface (API)* from the GitHub repository for this session.\n",
        "#@markdown This token will be expired after the live session. Follow the instructions in the next cell for future access.\n",
        "\n",
        "%%bash\n",
        "\n",
        "curl -o kaggle.json https://raw.githubusercontent.com/wfwiggins/ICH-detection-demo/main/assets/kaggle.json >/dev/null\n",
        "if [ -e kaggle.json ]; then\n",
        "    mkdir -p /root/.kaggle/\n",
        "    mv kaggle.json /root/.kaggle/\n",
        "    chmod 600 /root/.kaggle/kaggle.json \n",
        "fi"
      ],
      "metadata": {
        "colab": {
          "base_uri": "https://localhost:8080/"
        },
        "cellView": "form",
        "id": "WAeA1rR_SgJV",
        "outputId": "4fb1f0ba-037a-4bee-c587-4a9461c4df7c"
      },
      "execution_count": 4,
      "outputs": [
        {
          "output_type": "stream",
          "name": "stderr",
          "text": [
            "  % Total    % Received % Xferd  Average Speed   Time    Time     Time  Current\n",
            "                                 Dload  Upload   Total   Spent    Left  Speed\n",
            "\r  0     0    0     0    0     0      0      0 --:--:-- --:--:-- --:--:--     0\r100    69  100    69    0     0   3450      0 --:--:-- --:--:-- --:--:--  3631\n"
          ]
        }
      ]
    },
    {
      "cell_type": "code",
      "execution_count": 6,
      "metadata": {
        "id": "gVyLoi5yKq77",
        "cellView": "form"
      },
      "outputs": [],
      "source": [
        "#@title After the Initial Session...\n",
        "#@markdown The token for the Kaggle API provided in the GitHub repository will be expired and deleted.\n",
        "#@markdown To gain access to the data for future use, you will need to:\n",
        "#@markdown 1. Create a Kaggle account at [kaggle.com](https://www.kaggle.com/account/login?phase=startRegisterTab&returnUrl=%2F)\n",
        "#@markdown 2. Join the [RSNA Intracranial Hemorrhage Detection Competition](https://www.kaggle.com/c/rsna-intracranial-hemorrhage-detection) and accept the Competition Rules.\n",
        "#@markdown 3. Go to your Kaggle account and \"Create a New API Token\".\n",
        "\n",
        "#@markdown A file named `kaggle.json` will be downloaded to your computer. You will need to run this cell and upload it here before running the next cell.\n",
        "\n",
        "from google.colab import files\n",
        "\n",
        "if not os.path.exists(\"/root/.kaggle/kaggle.json\"):\n",
        "    _ = files.upload()\n",
        "\n",
        "!if [ -e kaggle.json ]; then mkdir -p /root/.kaggle/; mv kaggle.json /root/.kaggle/; chmod 600 /root/.kaggle/kaggle.json; fi"
      ]
    },
    {
      "cell_type": "code",
      "execution_count": null,
      "metadata": {
        "colab": {
          "base_uri": "https://localhost:8080/"
        },
        "id": "PSpVuAL5KsFB",
        "outputId": "b5227795-ab6f-4080-923d-b20b79573310",
        "cellView": "form"
      },
      "outputs": [
        {
          "output_type": "stream",
          "name": "stdout",
          "text": [
            "Downloading stage_2_train.csv.zip to /content\n"
          ]
        },
        {
          "output_type": "stream",
          "name": "stderr",
          "text": [
            "100%|██████████| 16.2M/16.2M [00:00<00:00, 20.4MB/s]\n"
          ]
        },
        {
          "output_type": "stream",
          "name": "stdout",
          "text": [
            "\n",
            "Archive:  stage_2_train.csv.zip\n",
            "  inflating: stage_2_train.csv       \n"
          ]
        }
      ],
      "source": [
        "#@title Download the Annotation File from Kaggle\n",
        "#@markdown The code in this cell will perform the following actions:\n",
        "#@markdown - Authenticate the Kaggle API\n",
        "#@markdown - Download and unzip the `stage_2_train.csv` (comma-separated values) file \n",
        "#@markdown\n",
        "#@markdown This file contains the filenames for all of the images in the training dataset and their associated hemorrhage labels.\n",
        "\n",
        "from kaggle.api.kaggle_api_extended import KaggleApi\n",
        "api = KaggleApi()\n",
        "api.authenticate()\n",
        "\n",
        "COMP_NAME = \"rsna-intracranial-hemorrhage-detection\"\n",
        "\n",
        "train_meta_fp = f'{COMP_NAME}/stage_2_train.csv'\n",
        "api.competition_download_file(COMP_NAME, train_meta_fp, \"/content\")\n",
        "\n",
        "!unzip stage_2_train.csv.zip\n",
        "!rm stage_2_train.csv.zip"
      ]
    },
    {
      "cell_type": "markdown",
      "metadata": {
        "id": "Y9vkWiTaR0nX"
      },
      "source": [
        "# Exploring the Data"
      ]
    },
    {
      "cell_type": "code",
      "execution_count": null,
      "metadata": {
        "colab": {
          "base_uri": "https://localhost:8080/",
          "height": 363
        },
        "id": "NA3OkWnWBgKL",
        "outputId": "135fcf16-82e7-4d09-af53-aac62a68a1ea",
        "cellView": "form"
      },
      "outputs": [
        {
          "output_type": "execute_result",
          "data": {
            "text/plain": [
              "                                    ID  Label\n",
              "1259912  ID_850e8ad4d_intraventricular      0\n",
              "403171   ID_e187b9b96_intraparenchymal      0\n",
              "636802           ID_d86ae0c7d_subdural      0\n",
              "4276772  ID_69187ab14_intraventricular      0\n",
              "823622   ID_d67b516d0_intraventricular      0\n",
              "4189380          ID_176c35595_epidural      0\n",
              "1601800          ID_38046a5d5_subdural      1\n",
              "1875732          ID_93b1fe477_epidural      0\n",
              "4433642  ID_492fbc9e8_intraventricular      0\n",
              "4447836          ID_720fec18f_epidural      0"
            ],
            "text/html": [
              "\n",
              "  <div id=\"df-698ae015-0bfb-4710-955d-5ad2ae9d9703\">\n",
              "    <div class=\"colab-df-container\">\n",
              "      <div>\n",
              "<style scoped>\n",
              "    .dataframe tbody tr th:only-of-type {\n",
              "        vertical-align: middle;\n",
              "    }\n",
              "\n",
              "    .dataframe tbody tr th {\n",
              "        vertical-align: top;\n",
              "    }\n",
              "\n",
              "    .dataframe thead th {\n",
              "        text-align: right;\n",
              "    }\n",
              "</style>\n",
              "<table border=\"1\" class=\"dataframe\">\n",
              "  <thead>\n",
              "    <tr style=\"text-align: right;\">\n",
              "      <th></th>\n",
              "      <th>ID</th>\n",
              "      <th>Label</th>\n",
              "    </tr>\n",
              "  </thead>\n",
              "  <tbody>\n",
              "    <tr>\n",
              "      <th>1259912</th>\n",
              "      <td>ID_850e8ad4d_intraventricular</td>\n",
              "      <td>0</td>\n",
              "    </tr>\n",
              "    <tr>\n",
              "      <th>403171</th>\n",
              "      <td>ID_e187b9b96_intraparenchymal</td>\n",
              "      <td>0</td>\n",
              "    </tr>\n",
              "    <tr>\n",
              "      <th>636802</th>\n",
              "      <td>ID_d86ae0c7d_subdural</td>\n",
              "      <td>0</td>\n",
              "    </tr>\n",
              "    <tr>\n",
              "      <th>4276772</th>\n",
              "      <td>ID_69187ab14_intraventricular</td>\n",
              "      <td>0</td>\n",
              "    </tr>\n",
              "    <tr>\n",
              "      <th>823622</th>\n",
              "      <td>ID_d67b516d0_intraventricular</td>\n",
              "      <td>0</td>\n",
              "    </tr>\n",
              "    <tr>\n",
              "      <th>4189380</th>\n",
              "      <td>ID_176c35595_epidural</td>\n",
              "      <td>0</td>\n",
              "    </tr>\n",
              "    <tr>\n",
              "      <th>1601800</th>\n",
              "      <td>ID_38046a5d5_subdural</td>\n",
              "      <td>1</td>\n",
              "    </tr>\n",
              "    <tr>\n",
              "      <th>1875732</th>\n",
              "      <td>ID_93b1fe477_epidural</td>\n",
              "      <td>0</td>\n",
              "    </tr>\n",
              "    <tr>\n",
              "      <th>4433642</th>\n",
              "      <td>ID_492fbc9e8_intraventricular</td>\n",
              "      <td>0</td>\n",
              "    </tr>\n",
              "    <tr>\n",
              "      <th>4447836</th>\n",
              "      <td>ID_720fec18f_epidural</td>\n",
              "      <td>0</td>\n",
              "    </tr>\n",
              "  </tbody>\n",
              "</table>\n",
              "</div>\n",
              "      <button class=\"colab-df-convert\" onclick=\"convertToInteractive('df-698ae015-0bfb-4710-955d-5ad2ae9d9703')\"\n",
              "              title=\"Convert this dataframe to an interactive table.\"\n",
              "              style=\"display:none;\">\n",
              "        \n",
              "  <svg xmlns=\"http://www.w3.org/2000/svg\" height=\"24px\"viewBox=\"0 0 24 24\"\n",
              "       width=\"24px\">\n",
              "    <path d=\"M0 0h24v24H0V0z\" fill=\"none\"/>\n",
              "    <path d=\"M18.56 5.44l.94 2.06.94-2.06 2.06-.94-2.06-.94-.94-2.06-.94 2.06-2.06.94zm-11 1L8.5 8.5l.94-2.06 2.06-.94-2.06-.94L8.5 2.5l-.94 2.06-2.06.94zm10 10l.94 2.06.94-2.06 2.06-.94-2.06-.94-.94-2.06-.94 2.06-2.06.94z\"/><path d=\"M17.41 7.96l-1.37-1.37c-.4-.4-.92-.59-1.43-.59-.52 0-1.04.2-1.43.59L10.3 9.45l-7.72 7.72c-.78.78-.78 2.05 0 2.83L4 21.41c.39.39.9.59 1.41.59.51 0 1.02-.2 1.41-.59l7.78-7.78 2.81-2.81c.8-.78.8-2.07 0-2.86zM5.41 20L4 18.59l7.72-7.72 1.47 1.35L5.41 20z\"/>\n",
              "  </svg>\n",
              "      </button>\n",
              "      \n",
              "  <style>\n",
              "    .colab-df-container {\n",
              "      display:flex;\n",
              "      flex-wrap:wrap;\n",
              "      gap: 12px;\n",
              "    }\n",
              "\n",
              "    .colab-df-convert {\n",
              "      background-color: #E8F0FE;\n",
              "      border: none;\n",
              "      border-radius: 50%;\n",
              "      cursor: pointer;\n",
              "      display: none;\n",
              "      fill: #1967D2;\n",
              "      height: 32px;\n",
              "      padding: 0 0 0 0;\n",
              "      width: 32px;\n",
              "    }\n",
              "\n",
              "    .colab-df-convert:hover {\n",
              "      background-color: #E2EBFA;\n",
              "      box-shadow: 0px 1px 2px rgba(60, 64, 67, 0.3), 0px 1px 3px 1px rgba(60, 64, 67, 0.15);\n",
              "      fill: #174EA6;\n",
              "    }\n",
              "\n",
              "    [theme=dark] .colab-df-convert {\n",
              "      background-color: #3B4455;\n",
              "      fill: #D2E3FC;\n",
              "    }\n",
              "\n",
              "    [theme=dark] .colab-df-convert:hover {\n",
              "      background-color: #434B5C;\n",
              "      box-shadow: 0px 1px 3px 1px rgba(0, 0, 0, 0.15);\n",
              "      filter: drop-shadow(0px 1px 2px rgba(0, 0, 0, 0.3));\n",
              "      fill: #FFFFFF;\n",
              "    }\n",
              "  </style>\n",
              "\n",
              "      <script>\n",
              "        const buttonEl =\n",
              "          document.querySelector('#df-698ae015-0bfb-4710-955d-5ad2ae9d9703 button.colab-df-convert');\n",
              "        buttonEl.style.display =\n",
              "          google.colab.kernel.accessAllowed ? 'block' : 'none';\n",
              "\n",
              "        async function convertToInteractive(key) {\n",
              "          const element = document.querySelector('#df-698ae015-0bfb-4710-955d-5ad2ae9d9703');\n",
              "          const dataTable =\n",
              "            await google.colab.kernel.invokeFunction('convertToInteractive',\n",
              "                                                     [key], {});\n",
              "          if (!dataTable) return;\n",
              "\n",
              "          const docLinkHtml = 'Like what you see? Visit the ' +\n",
              "            '<a target=\"_blank\" href=https://colab.research.google.com/notebooks/data_table.ipynb>data table notebook</a>'\n",
              "            + ' to learn more about interactive tables.';\n",
              "          element.innerHTML = '';\n",
              "          dataTable['output_type'] = 'display_data';\n",
              "          await google.colab.output.renderOutput(dataTable, element);\n",
              "          const docLink = document.createElement('div');\n",
              "          docLink.innerHTML = docLinkHtml;\n",
              "          element.appendChild(docLink);\n",
              "        }\n",
              "      </script>\n",
              "    </div>\n",
              "  </div>\n",
              "  "
            ]
          },
          "metadata": {},
          "execution_count": 4
        }
      ],
      "source": [
        "#@title Load the Label File\n",
        "#@markdown Here we load the label file `stage_2_train.csv` into a tabular data format called a `DataFrame`.\n",
        "#@markdown - A random sample of the rows will be displayed below.\n",
        "#@markdown - What do you notice about the IDs?\n",
        "\n",
        "train_df = pd.read_csv('stage_2_train.csv')\n",
        "train_df.sample(10)"
      ]
    },
    {
      "cell_type": "code",
      "execution_count": null,
      "metadata": {
        "colab": {
          "base_uri": "https://localhost:8080/",
          "height": 223
        },
        "id": "nDZrJSxAGVRG",
        "outputId": "ebfc7be8-74f1-4fa2-ed95-6afbaa078f56",
        "cellView": "form"
      },
      "outputs": [
        {
          "output_type": "stream",
          "name": "stdout",
          "text": [
            "(4516842, 3)\n"
          ]
        },
        {
          "output_type": "execute_result",
          "data": {
            "text/plain": [
              "             ID  Label           Subtype\n",
              "0  ID_12cadc6af      0          epidural\n",
              "1  ID_12cadc6af      0  intraparenchymal\n",
              "2  ID_12cadc6af      0  intraventricular\n",
              "3  ID_12cadc6af      0      subarachnoid\n",
              "4  ID_12cadc6af      0          subdural"
            ],
            "text/html": [
              "\n",
              "  <div id=\"df-c2e94a24-290a-48c7-a8f6-fa4a2565ac9a\">\n",
              "    <div class=\"colab-df-container\">\n",
              "      <div>\n",
              "<style scoped>\n",
              "    .dataframe tbody tr th:only-of-type {\n",
              "        vertical-align: middle;\n",
              "    }\n",
              "\n",
              "    .dataframe tbody tr th {\n",
              "        vertical-align: top;\n",
              "    }\n",
              "\n",
              "    .dataframe thead th {\n",
              "        text-align: right;\n",
              "    }\n",
              "</style>\n",
              "<table border=\"1\" class=\"dataframe\">\n",
              "  <thead>\n",
              "    <tr style=\"text-align: right;\">\n",
              "      <th></th>\n",
              "      <th>ID</th>\n",
              "      <th>Label</th>\n",
              "      <th>Subtype</th>\n",
              "    </tr>\n",
              "  </thead>\n",
              "  <tbody>\n",
              "    <tr>\n",
              "      <th>0</th>\n",
              "      <td>ID_12cadc6af</td>\n",
              "      <td>0</td>\n",
              "      <td>epidural</td>\n",
              "    </tr>\n",
              "    <tr>\n",
              "      <th>1</th>\n",
              "      <td>ID_12cadc6af</td>\n",
              "      <td>0</td>\n",
              "      <td>intraparenchymal</td>\n",
              "    </tr>\n",
              "    <tr>\n",
              "      <th>2</th>\n",
              "      <td>ID_12cadc6af</td>\n",
              "      <td>0</td>\n",
              "      <td>intraventricular</td>\n",
              "    </tr>\n",
              "    <tr>\n",
              "      <th>3</th>\n",
              "      <td>ID_12cadc6af</td>\n",
              "      <td>0</td>\n",
              "      <td>subarachnoid</td>\n",
              "    </tr>\n",
              "    <tr>\n",
              "      <th>4</th>\n",
              "      <td>ID_12cadc6af</td>\n",
              "      <td>0</td>\n",
              "      <td>subdural</td>\n",
              "    </tr>\n",
              "  </tbody>\n",
              "</table>\n",
              "</div>\n",
              "      <button class=\"colab-df-convert\" onclick=\"convertToInteractive('df-c2e94a24-290a-48c7-a8f6-fa4a2565ac9a')\"\n",
              "              title=\"Convert this dataframe to an interactive table.\"\n",
              "              style=\"display:none;\">\n",
              "        \n",
              "  <svg xmlns=\"http://www.w3.org/2000/svg\" height=\"24px\"viewBox=\"0 0 24 24\"\n",
              "       width=\"24px\">\n",
              "    <path d=\"M0 0h24v24H0V0z\" fill=\"none\"/>\n",
              "    <path d=\"M18.56 5.44l.94 2.06.94-2.06 2.06-.94-2.06-.94-.94-2.06-.94 2.06-2.06.94zm-11 1L8.5 8.5l.94-2.06 2.06-.94-2.06-.94L8.5 2.5l-.94 2.06-2.06.94zm10 10l.94 2.06.94-2.06 2.06-.94-2.06-.94-.94-2.06-.94 2.06-2.06.94z\"/><path d=\"M17.41 7.96l-1.37-1.37c-.4-.4-.92-.59-1.43-.59-.52 0-1.04.2-1.43.59L10.3 9.45l-7.72 7.72c-.78.78-.78 2.05 0 2.83L4 21.41c.39.39.9.59 1.41.59.51 0 1.02-.2 1.41-.59l7.78-7.78 2.81-2.81c.8-.78.8-2.07 0-2.86zM5.41 20L4 18.59l7.72-7.72 1.47 1.35L5.41 20z\"/>\n",
              "  </svg>\n",
              "      </button>\n",
              "      \n",
              "  <style>\n",
              "    .colab-df-container {\n",
              "      display:flex;\n",
              "      flex-wrap:wrap;\n",
              "      gap: 12px;\n",
              "    }\n",
              "\n",
              "    .colab-df-convert {\n",
              "      background-color: #E8F0FE;\n",
              "      border: none;\n",
              "      border-radius: 50%;\n",
              "      cursor: pointer;\n",
              "      display: none;\n",
              "      fill: #1967D2;\n",
              "      height: 32px;\n",
              "      padding: 0 0 0 0;\n",
              "      width: 32px;\n",
              "    }\n",
              "\n",
              "    .colab-df-convert:hover {\n",
              "      background-color: #E2EBFA;\n",
              "      box-shadow: 0px 1px 2px rgba(60, 64, 67, 0.3), 0px 1px 3px 1px rgba(60, 64, 67, 0.15);\n",
              "      fill: #174EA6;\n",
              "    }\n",
              "\n",
              "    [theme=dark] .colab-df-convert {\n",
              "      background-color: #3B4455;\n",
              "      fill: #D2E3FC;\n",
              "    }\n",
              "\n",
              "    [theme=dark] .colab-df-convert:hover {\n",
              "      background-color: #434B5C;\n",
              "      box-shadow: 0px 1px 3px 1px rgba(0, 0, 0, 0.15);\n",
              "      filter: drop-shadow(0px 1px 2px rgba(0, 0, 0, 0.3));\n",
              "      fill: #FFFFFF;\n",
              "    }\n",
              "  </style>\n",
              "\n",
              "      <script>\n",
              "        const buttonEl =\n",
              "          document.querySelector('#df-c2e94a24-290a-48c7-a8f6-fa4a2565ac9a button.colab-df-convert');\n",
              "        buttonEl.style.display =\n",
              "          google.colab.kernel.accessAllowed ? 'block' : 'none';\n",
              "\n",
              "        async function convertToInteractive(key) {\n",
              "          const element = document.querySelector('#df-c2e94a24-290a-48c7-a8f6-fa4a2565ac9a');\n",
              "          const dataTable =\n",
              "            await google.colab.kernel.invokeFunction('convertToInteractive',\n",
              "                                                     [key], {});\n",
              "          if (!dataTable) return;\n",
              "\n",
              "          const docLinkHtml = 'Like what you see? Visit the ' +\n",
              "            '<a target=\"_blank\" href=https://colab.research.google.com/notebooks/data_table.ipynb>data table notebook</a>'\n",
              "            + ' to learn more about interactive tables.';\n",
              "          element.innerHTML = '';\n",
              "          dataTable['output_type'] = 'display_data';\n",
              "          await google.colab.output.renderOutput(dataTable, element);\n",
              "          const docLink = document.createElement('div');\n",
              "          docLink.innerHTML = docLinkHtml;\n",
              "          element.appendChild(docLink);\n",
              "        }\n",
              "      </script>\n",
              "    </div>\n",
              "  </div>\n",
              "  "
            ]
          },
          "metadata": {},
          "execution_count": 5
        }
      ],
      "source": [
        "#@title Reformatting the Label File\n",
        "\n",
        "#@markdown The labels above contain both the file ID of the individual image file and the subtype label, separated by a `_`.\n",
        "#@markdown <br><br>We'll split the \"ID\" _string_ at the last occurrence of `_`, then reassign the resulting splits to different columns.\n",
        "\n",
        "train_df[['ID', 'Subtype']] = train_df['ID'].str.rsplit(pat='_', n=1, expand=True)\n",
        "print(train_df.shape)\n",
        "train_df.head()"
      ]
    },
    {
      "cell_type": "code",
      "execution_count": null,
      "metadata": {
        "colab": {
          "base_uri": "https://localhost:8080/",
          "height": 255
        },
        "id": "RaKc5uB7HqE4",
        "outputId": "34937497-162c-43a1-f0f9-83589e8bc6e0",
        "cellView": "form"
      },
      "outputs": [
        {
          "output_type": "stream",
          "name": "stdout",
          "text": [
            "(752803, 7)\n"
          ]
        },
        {
          "output_type": "execute_result",
          "data": {
            "text/plain": [
              "                   ID Label                                             \\\n",
              "Subtype                 any epidural intraparenchymal intraventricular   \n",
              "0        ID_000012eaf     0        0                0                0   \n",
              "1        ID_000039fa0     0        0                0                0   \n",
              "2        ID_00005679d     0        0                0                0   \n",
              "3        ID_00008ce3c     0        0                0                0   \n",
              "4        ID_0000950d7     0        0                0                0   \n",
              "\n",
              "                               \n",
              "Subtype subarachnoid subdural  \n",
              "0                  0        0  \n",
              "1                  0        0  \n",
              "2                  0        0  \n",
              "3                  0        0  \n",
              "4                  0        0  "
            ],
            "text/html": [
              "\n",
              "  <div id=\"df-b8d65723-e952-4b5d-bccf-d1d85e038d7f\">\n",
              "    <div class=\"colab-df-container\">\n",
              "      <div>\n",
              "<style scoped>\n",
              "    .dataframe tbody tr th:only-of-type {\n",
              "        vertical-align: middle;\n",
              "    }\n",
              "\n",
              "    .dataframe tbody tr th {\n",
              "        vertical-align: top;\n",
              "    }\n",
              "\n",
              "    .dataframe thead tr th {\n",
              "        text-align: left;\n",
              "    }\n",
              "</style>\n",
              "<table border=\"1\" class=\"dataframe\">\n",
              "  <thead>\n",
              "    <tr>\n",
              "      <th></th>\n",
              "      <th>ID</th>\n",
              "      <th colspan=\"6\" halign=\"left\">Label</th>\n",
              "    </tr>\n",
              "    <tr>\n",
              "      <th>Subtype</th>\n",
              "      <th></th>\n",
              "      <th>any</th>\n",
              "      <th>epidural</th>\n",
              "      <th>intraparenchymal</th>\n",
              "      <th>intraventricular</th>\n",
              "      <th>subarachnoid</th>\n",
              "      <th>subdural</th>\n",
              "    </tr>\n",
              "  </thead>\n",
              "  <tbody>\n",
              "    <tr>\n",
              "      <th>0</th>\n",
              "      <td>ID_000012eaf</td>\n",
              "      <td>0</td>\n",
              "      <td>0</td>\n",
              "      <td>0</td>\n",
              "      <td>0</td>\n",
              "      <td>0</td>\n",
              "      <td>0</td>\n",
              "    </tr>\n",
              "    <tr>\n",
              "      <th>1</th>\n",
              "      <td>ID_000039fa0</td>\n",
              "      <td>0</td>\n",
              "      <td>0</td>\n",
              "      <td>0</td>\n",
              "      <td>0</td>\n",
              "      <td>0</td>\n",
              "      <td>0</td>\n",
              "    </tr>\n",
              "    <tr>\n",
              "      <th>2</th>\n",
              "      <td>ID_00005679d</td>\n",
              "      <td>0</td>\n",
              "      <td>0</td>\n",
              "      <td>0</td>\n",
              "      <td>0</td>\n",
              "      <td>0</td>\n",
              "      <td>0</td>\n",
              "    </tr>\n",
              "    <tr>\n",
              "      <th>3</th>\n",
              "      <td>ID_00008ce3c</td>\n",
              "      <td>0</td>\n",
              "      <td>0</td>\n",
              "      <td>0</td>\n",
              "      <td>0</td>\n",
              "      <td>0</td>\n",
              "      <td>0</td>\n",
              "    </tr>\n",
              "    <tr>\n",
              "      <th>4</th>\n",
              "      <td>ID_0000950d7</td>\n",
              "      <td>0</td>\n",
              "      <td>0</td>\n",
              "      <td>0</td>\n",
              "      <td>0</td>\n",
              "      <td>0</td>\n",
              "      <td>0</td>\n",
              "    </tr>\n",
              "  </tbody>\n",
              "</table>\n",
              "</div>\n",
              "      <button class=\"colab-df-convert\" onclick=\"convertToInteractive('df-b8d65723-e952-4b5d-bccf-d1d85e038d7f')\"\n",
              "              title=\"Convert this dataframe to an interactive table.\"\n",
              "              style=\"display:none;\">\n",
              "        \n",
              "  <svg xmlns=\"http://www.w3.org/2000/svg\" height=\"24px\"viewBox=\"0 0 24 24\"\n",
              "       width=\"24px\">\n",
              "    <path d=\"M0 0h24v24H0V0z\" fill=\"none\"/>\n",
              "    <path d=\"M18.56 5.44l.94 2.06.94-2.06 2.06-.94-2.06-.94-.94-2.06-.94 2.06-2.06.94zm-11 1L8.5 8.5l.94-2.06 2.06-.94-2.06-.94L8.5 2.5l-.94 2.06-2.06.94zm10 10l.94 2.06.94-2.06 2.06-.94-2.06-.94-.94-2.06-.94 2.06-2.06.94z\"/><path d=\"M17.41 7.96l-1.37-1.37c-.4-.4-.92-.59-1.43-.59-.52 0-1.04.2-1.43.59L10.3 9.45l-7.72 7.72c-.78.78-.78 2.05 0 2.83L4 21.41c.39.39.9.59 1.41.59.51 0 1.02-.2 1.41-.59l7.78-7.78 2.81-2.81c.8-.78.8-2.07 0-2.86zM5.41 20L4 18.59l7.72-7.72 1.47 1.35L5.41 20z\"/>\n",
              "  </svg>\n",
              "      </button>\n",
              "      \n",
              "  <style>\n",
              "    .colab-df-container {\n",
              "      display:flex;\n",
              "      flex-wrap:wrap;\n",
              "      gap: 12px;\n",
              "    }\n",
              "\n",
              "    .colab-df-convert {\n",
              "      background-color: #E8F0FE;\n",
              "      border: none;\n",
              "      border-radius: 50%;\n",
              "      cursor: pointer;\n",
              "      display: none;\n",
              "      fill: #1967D2;\n",
              "      height: 32px;\n",
              "      padding: 0 0 0 0;\n",
              "      width: 32px;\n",
              "    }\n",
              "\n",
              "    .colab-df-convert:hover {\n",
              "      background-color: #E2EBFA;\n",
              "      box-shadow: 0px 1px 2px rgba(60, 64, 67, 0.3), 0px 1px 3px 1px rgba(60, 64, 67, 0.15);\n",
              "      fill: #174EA6;\n",
              "    }\n",
              "\n",
              "    [theme=dark] .colab-df-convert {\n",
              "      background-color: #3B4455;\n",
              "      fill: #D2E3FC;\n",
              "    }\n",
              "\n",
              "    [theme=dark] .colab-df-convert:hover {\n",
              "      background-color: #434B5C;\n",
              "      box-shadow: 0px 1px 3px 1px rgba(0, 0, 0, 0.15);\n",
              "      filter: drop-shadow(0px 1px 2px rgba(0, 0, 0, 0.3));\n",
              "      fill: #FFFFFF;\n",
              "    }\n",
              "  </style>\n",
              "\n",
              "      <script>\n",
              "        const buttonEl =\n",
              "          document.querySelector('#df-b8d65723-e952-4b5d-bccf-d1d85e038d7f button.colab-df-convert');\n",
              "        buttonEl.style.display =\n",
              "          google.colab.kernel.accessAllowed ? 'block' : 'none';\n",
              "\n",
              "        async function convertToInteractive(key) {\n",
              "          const element = document.querySelector('#df-b8d65723-e952-4b5d-bccf-d1d85e038d7f');\n",
              "          const dataTable =\n",
              "            await google.colab.kernel.invokeFunction('convertToInteractive',\n",
              "                                                     [key], {});\n",
              "          if (!dataTable) return;\n",
              "\n",
              "          const docLinkHtml = 'Like what you see? Visit the ' +\n",
              "            '<a target=\"_blank\" href=https://colab.research.google.com/notebooks/data_table.ipynb>data table notebook</a>'\n",
              "            + ' to learn more about interactive tables.';\n",
              "          element.innerHTML = '';\n",
              "          dataTable['output_type'] = 'display_data';\n",
              "          await google.colab.output.renderOutput(dataTable, element);\n",
              "          const docLink = document.createElement('div');\n",
              "          docLink.innerHTML = docLinkHtml;\n",
              "          element.appendChild(docLink);\n",
              "        }\n",
              "      </script>\n",
              "    </div>\n",
              "  </div>\n",
              "  "
            ]
          },
          "metadata": {},
          "execution_count": 6
        }
      ],
      "source": [
        "#@title Cleaning up a Little More...\n",
        "\n",
        "#@markdown Now we'll check for any errors in ID formatting, fix them (if any), and pivot the table such that there will only be one row for each unique ID.\n",
        "#@markdown The hemorrhage subtype labels (including \"any\") will each have their own columns.\n",
        "\n",
        "def fix_id(img_id):\n",
        "    if not re.match(r'ID_[a-z0-9]+', img_id):\n",
        "        sop = re.search(r'[a-z0-9]+', img_id)\n",
        "        if sop:\n",
        "            img_id_new = f'ID_{sop[0]}'\n",
        "            return img_id_new\n",
        "        else:\n",
        "            print(img_id)\n",
        "    return img_id\n",
        "\n",
        "# test\n",
        "assert(fix_id('ID_63eb1e259') == fix_id('ID63eb1e259'))\n",
        "test = 'ID_dbdedfada'\n",
        "assert(fix_id(test) == 'ID_dbdedfada')\n",
        "\n",
        "# apply\n",
        "train_df['ID'] = train_df['ID'].apply(fix_id)\n",
        "train_new = train_df.pivot_table(index='ID', columns='Subtype').reset_index()\n",
        "print(train_new.shape)\n",
        "train_new.head()"
      ]
    },
    {
      "cell_type": "code",
      "execution_count": null,
      "metadata": {
        "colab": {
          "base_uri": "https://localhost:8080/",
          "height": 404
        },
        "id": "PgQDtvupIHJy",
        "outputId": "5c91a1d5-c4ef-46df-b38a-074f4f66c8ed",
        "cellView": "form"
      },
      "outputs": [
        {
          "output_type": "stream",
          "name": "stdout",
          "text": [
            "Subtype\n",
            "any                 107933\n",
            "epidural              3145\n",
            "intraparenchymal     36118\n",
            "intraventricular     26205\n",
            "subarachnoid         35675\n",
            "subdural             47166\n",
            "dtype: int64\n"
          ]
        },
        {
          "output_type": "display_data",
          "data": {
            "text/plain": [
              "<Figure size 432x288 with 1 Axes>"
            ],
            "image/png": "[encoded data removed]"
          },
          "metadata": {
            "needs_background": "light"
          }
        }
      ],
      "source": [
        "#@title Exploring the Label Distribution\n",
        "\n",
        "#@markdown Here, we sum over all rows to see how many of each label exist in our dataset.\n",
        "\n",
        "#@markdown We see below that there is some degree of _class imbalance_ across the various hemorrhage subtypes.\n",
        "#@markdown That is, there are far fewer cases with epidural hemorrhage than any of the other subtypes.\n",
        "\n",
        "#@markdown > **Why this matters:**\n",
        "#@markdown - If there is enough class imbalance, the model may _overfit_ to a class (or classes) with better representation in the training data.\n",
        "#@markdown - We may employ different techniques in our model training to compensate for this imbalance.\n",
        "\n",
        "subtype_ct = train_new['Label'].sum(axis=0)\n",
        "print(subtype_ct)\n",
        "sns.barplot(x=subtype_ct.values, y=subtype_ct.index);"
      ]
    },
    {
      "cell_type": "code",
      "execution_count": null,
      "metadata": {
        "colab": {
          "base_uri": "https://localhost:8080/",
          "height": 404
        },
        "id": "BjXkVuYbLBI1",
        "outputId": "8f200fc1-b9eb-413a-b28a-3d09ad17a503",
        "cellView": "form"
      },
      "outputs": [
        {
          "output_type": "stream",
          "name": "stdout",
          "text": [
            "Subtype\n",
            "any                 100\n",
            "epidural            100\n",
            "intraparenchymal     22\n",
            "intraventricular      8\n",
            "subarachnoid         16\n",
            "subdural             24\n",
            "dtype: int64\n"
          ]
        },
        {
          "output_type": "display_data",
          "data": {
            "text/plain": [
              "<Figure size 432x288 with 1 Axes>"
            ],
            "image/png": "[encoded data removed]"
          },
          "metadata": {
            "needs_background": "light"
          }
        }
      ],
      "source": [
        "#@title Examine a Subset of Images with Epidural Hemorrhage\n",
        "\n",
        "#@markdown First, we filter on rows with `\"epidural\" == 1`, meaning that there is epidural hemorrhage on that image.\n",
        "#@markdown Then, we sum across all rows again and display the results in tabular and graphical (i.e. bar plot or histogram) formats.\n",
        "\n",
        "#@markdown Note that _all_ 100 images in this subset are positive for the \"any\" label, which makes sense, but is a nice \"sanity check\" that this label is accurate.\n",
        "#@markdown If this were **not** the case, we would want to examine all images where the \"epidural\" label was marked positive but the \"any\" label was marked negative by the annotator(s).\n",
        "\n",
        "filt = train_new[\"Label\"][\"epidural\"] == 1\n",
        "edh = train_new[filt].sample(100, random_state=42).reset_index(drop=True)\n",
        "subtype_ct = edh['Label'].sum(axis=0)\n",
        "print(subtype_ct)\n",
        "sns.barplot(x=subtype_ct.values, y=subtype_ct.index);"
      ]
    },
    {
      "cell_type": "code",
      "execution_count": null,
      "metadata": {
        "colab": {
          "base_uri": "https://localhost:8080/"
        },
        "id": "I0tMEDcSQU-6",
        "outputId": "0a0bffd9-4662-4f92-b485-5dff55439659",
        "cellView": "form"
      },
      "outputs": [
        {
          "output_type": "stream",
          "name": "stdout",
          "text": [
            "Downloading ID_e394200ce.dcm to /content\n"
          ]
        },
        {
          "output_type": "stream",
          "name": "stderr",
          "text": [
            "100%|██████████| 513k/513k [00:00<00:00, 109MB/s]"
          ]
        },
        {
          "output_type": "stream",
          "name": "stdout",
          "text": [
            "\n"
          ]
        },
        {
          "output_type": "stream",
          "name": "stderr",
          "text": [
            "\n"
          ]
        }
      ],
      "source": [
        "#@title Downloading an Example from the EDH Subset\n",
        "\n",
        "def id_to_filepath(img_id):\n",
        "    img_dir = f'{COMP_NAME}/stage_2_train'\n",
        "    filepath = f'{img_dir}/{img_id}.dcm'\n",
        "    return filepath\n",
        "\n",
        "edh[\"filepath\"] = edh[\"ID\"].apply(id_to_filepath)\n",
        "\n",
        "def download_file(fp):\n",
        "    try:\n",
        "        api.competition_download_file(COMP_NAME, fp, \"/content\")\n",
        "    except:\n",
        "        print(f'{fp} not found')\n",
        "\n",
        "download_file(edh['filepath'].iloc[0])"
      ]
    },
    {
      "cell_type": "code",
      "execution_count": null,
      "metadata": {
        "colab": {
          "base_uri": "https://localhost:8080/"
        },
        "id": "hoB1DDZU_zve",
        "outputId": "9d92f1f6-6e58-4a4f-844b-5d329cd4c7c1",
        "cellView": "form"
      },
      "outputs": [
        {
          "output_type": "execute_result",
          "data": {
            "text/plain": [
              "Dataset.file_meta -------------------------------\n",
              "(0002, 0000) File Meta Information Group Length  UL: 176\n",
              "(0002, 0001) File Meta Information Version       OB: b'\\x00\\x01'\n",
              "(0002, 0002) Media Storage SOP Class UID         UI: CT Image Storage\n",
              "(0002, 0003) Media Storage SOP Instance UID      UI: 9999.189276234146955515960984605667132246459\n",
              "(0002, 0010) Transfer Syntax UID                 UI: Explicit VR Little Endian\n",
              "(0002, 0012) Implementation Class UID            UI: 1.2.40.0.13.1.1.1\n",
              "(0002, 0013) Implementation Version Name         SH: 'dcm4che-1.4.38'\n",
              "-------------------------------------------------\n",
              "(0008, 0018) SOP Instance UID                    UI: ID_e394200ce\n",
              "(0008, 0060) Modality                            CS: 'CT'\n",
              "(0010, 0020) Patient ID                          LO: 'ID_630eb027'\n",
              "(0020, 000d) Study Instance UID                  UI: ID_0ffdf20f08\n",
              "(0020, 000e) Series Instance UID                 UI: ID_1d75e1fb4f\n",
              "(0020, 0010) Study ID                            SH: ''\n",
              "(0020, 0032) Image Position (Patient)            DS: [-136, 41, 479.199951]\n",
              "(0020, 0037) Image Orientation (Patient)         DS: [1, 0, 0, 0, 1, 0]\n",
              "(0028, 0002) Samples per Pixel                   US: 1\n",
              "(0028, 0004) Photometric Interpretation          CS: 'MONOCHROME2'\n",
              "(0028, 0010) Rows                                US: 512\n",
              "(0028, 0011) Columns                             US: 512\n",
              "(0028, 0030) Pixel Spacing                       DS: [0.39453125, 0.39453125]\n",
              "(0028, 0100) Bits Allocated                      US: 16\n",
              "(0028, 0101) Bits Stored                         US: 12\n",
              "(0028, 0102) High Bit                            US: 11\n",
              "(0028, 0103) Pixel Representation                US: 0\n",
              "(0028, 1050) Window Center                       DS: [00040, 00040]\n",
              "(0028, 1051) Window Width                        DS: [00080, 00080]\n",
              "(0028, 1052) Rescale Intercept                   DS: '-1024.0'\n",
              "(0028, 1053) Rescale Slope                       DS: '1.0'\n",
              "(7fe0, 0010) Pixel Data                          OW: Array of 524288 elements"
            ]
          },
          "metadata": {},
          "execution_count": 10
        }
      ],
      "source": [
        "#@title Examine the DICOM Header (or Metadata)\n",
        "\n",
        "#@markdown Enter the file name from the output of the cell above:\n",
        "fp = \"ID_e394200ce.dcm\" #@param {\"type\": \"string\"}\n",
        "\n",
        "ds = pydicom.dcmread(fp)\n",
        "ds"
      ]
    },
    {
      "cell_type": "markdown",
      "metadata": {
        "id": "Q9MGdQpRYZc3"
      },
      "source": [
        "# Examining the Pixels"
      ]
    },
    {
      "cell_type": "code",
      "execution_count": null,
      "metadata": {
        "colab": {
          "base_uri": "https://localhost:8080/",
          "height": 269
        },
        "id": "rV7pASPfAHBJ",
        "outputId": "fab26843-4547-43ab-fd22-fa4de6d90cc8",
        "cellView": "form"
      },
      "outputs": [
        {
          "output_type": "display_data",
          "data": {
            "text/plain": [
              "<Figure size 432x288 with 1 Axes>"
            ],
            "image/png": "[encoded data removed]"
          },
          "metadata": {
            "needs_background": "light"
          }
        }
      ],
      "source": [
        "#@title Extract the Pixel Data & Display an Image\n",
        "\n",
        "px = ds.pixel_array\n",
        "plt.imshow(px);"
      ]
    },
    {
      "cell_type": "code",
      "execution_count": null,
      "metadata": {
        "colab": {
          "base_uri": "https://localhost:8080/"
        },
        "id": "lU_8r2TbBCjP",
        "outputId": "d5ae1e13-a513-4839-948e-ab16edf3dcbe",
        "cellView": "form"
      },
      "outputs": [
        {
          "output_type": "stream",
          "name": "stdout",
          "text": [
            "Unscaled pixel value at (250, 250): 1058\n",
            "Rescaled: 34.0\n"
          ]
        }
      ],
      "source": [
        "#@title Rescaling the Pixels\n",
        "\n",
        "#@markdown Note the \"Rescale Intercept\" and \"Rescale Slope\" tags in the DICOM metadata above. We need to utilize these to rescale the data to the expected Hounsfield unit scale.\n",
        "#@markdown This will allow us to apply standard window widths and levels to the image.\n",
        "\n",
        "print('Unscaled pixel value at (250, 250):', px[250, 250])\n",
        "px_rescaled = (px * ds.RescaleSlope + ds.RescaleIntercept)\n",
        "print('Rescaled:', px_rescaled[250, 250])"
      ]
    },
    {
      "cell_type": "code",
      "execution_count": null,
      "metadata": {
        "colab": {
          "base_uri": "https://localhost:8080/",
          "height": 269
        },
        "id": "2EQMrYJgBvtu",
        "outputId": "f6d90098-b2d0-47fa-ff7e-813178e1b70f",
        "cellView": "form"
      },
      "outputs": [
        {
          "output_type": "display_data",
          "data": {
            "text/plain": [
              "<Figure size 432x288 with 1 Axes>"
            ],
            "image/png": "[encoded data removed]"
          },
          "metadata": {
            "needs_background": "light"
          }
        }
      ],
      "source": [
        "#@title Viewing the Image in a Hemorrhage Window\n",
        "\n",
        "#@markdown You may change the values below, then rerun the cell to view different windows.\n",
        "window_width = 120 #@param {type: \"integer\"}\n",
        "window_level = 40 #@param {type: \"integer\"}\n",
        "\n",
        "def window_image(px, width=80, level=40):\n",
        "    lower = level - width/2\n",
        "    upper = level + width/2\n",
        "    return np.clip(px, lower, upper)\n",
        "\n",
        "px_windowed = window_image(px_rescaled, window_width, window_level)\n",
        "plt.imshow(px_windowed);"
      ]
    },
    {
      "cell_type": "code",
      "execution_count": null,
      "metadata": {
        "colab": {
          "base_uri": "https://localhost:8080/",
          "height": 269
        },
        "id": "WKSrHefK_XwI",
        "outputId": "c26cf9bc-d879-4b81-d1ce-bf0631b6c8f4",
        "cellView": "form"
      },
      "outputs": [
        {
          "output_type": "display_data",
          "data": {
            "text/plain": [
              "<Figure size 432x288 with 1 Axes>"
            ],
            "image/png": "[encoded data removed]"
          },
          "metadata": {
            "needs_background": "light"
          }
        }
      ],
      "source": [
        "#@title Creating a Mask to Crop the Image\n",
        "\n",
        "#@markdown We have a lot of extra pixels in our initial image that aren't really contributing to our ability to make predictions about that image.\n",
        "#@markdown For example, the air around the subject's head. The cradle or frame in which they are positioned.\n",
        "#@markdown If we could crop some of that out, we'd be able to reduce the \"noise\" that our deep learning model will be subjected to.\n",
        "\n",
        "#@markdown So in this cell, we normalize the pixels to a `[0, 1]` range, then blur the image and create a mask from the blurred image.\n",
        "#@markdown This mask is then overlayed on the windowed image in a translucent red hue.\n",
        "\n",
        "def normalize_px(px):\n",
        "    return (px - px.min())/(px.max() - px.min())\n",
        "\n",
        "def mask_from_blur(px, sigma_x=20, sigma_y=20, threshold=0.40, remove_max=True):\n",
        "    normed = normalize_px(px)\n",
        "    if remove_max: normed[normed == 1] = 0\n",
        "    blurred = cv2.GaussianBlur(normed, (0,0), sigma_x, sigma_y)\n",
        "    return blurred > threshold\n",
        "\n",
        "mask = mask_from_blur(px_rescaled)\n",
        "plt.imshow(px_windowed);\n",
        "plt.imshow(mask, cmap=plt.cm.Reds, alpha=0.5);"
      ]
    },
    {
      "cell_type": "code",
      "execution_count": null,
      "metadata": {
        "colab": {
          "base_uri": "https://localhost:8080/",
          "height": 269
        },
        "id": "CqonLsm-DYZD",
        "outputId": "777984df-c51e-4244-943e-65f728af4693",
        "cellView": "form"
      },
      "outputs": [
        {
          "output_type": "display_data",
          "data": {
            "text/plain": [
              "<Figure size 432x288 with 1 Axes>"
            ],
            "image/png": "[encoded data removed]"
          },
          "metadata": {
            "needs_background": "light"
          }
        }
      ],
      "source": [
        "#@title Turn the Mask into a Bounding Box\n",
        "\n",
        "def bbox_from_mask(mask, padding=0):\n",
        "    xs = mask.sum(axis=0).nonzero()\n",
        "    x_min = max(xs[0].min() - padding, 0)\n",
        "    x_max = min(xs[0].max() + padding, len(mask[0]))\n",
        "    ys = mask.sum(axis=1).nonzero()\n",
        "    y_min = max(ys[0].min() - padding, 0)\n",
        "    y_max = min(ys[0].max() + padding, len(mask[1]))\n",
        "    return (x_min, x_max), (y_min, y_max)\n",
        "\n",
        "bb_x, bb_y = bbox_from_mask(mask)\n",
        "\n",
        "bbox = Rectangle((bb_x[0], bb_y[0]), bb_x[1] - bb_x[0], bb_y[1] - bb_y[0], linewidth=1, edgecolor=\"r\", fill=None)\n",
        "\n",
        "_, ax = plt.subplots(1)\n",
        "ax.imshow(px_windowed)\n",
        "ax.add_patch(bbox)\n",
        "plt.show();"
      ]
    },
    {
      "cell_type": "code",
      "execution_count": null,
      "metadata": {
        "colab": {
          "base_uri": "https://localhost:8080/",
          "height": 269
        },
        "id": "SRTMWsMjB4ky",
        "outputId": "0efa68e7-5f44-4423-9374-84b4d20470b3",
        "cellView": "form"
      },
      "outputs": [
        {
          "output_type": "display_data",
          "data": {
            "text/plain": [
              "<Figure size 432x288 with 1 Axes>"
            ],
            "image/png": "[encoded data removed]"
          },
          "metadata": {
            "needs_background": "light"
          }
        }
      ],
      "source": [
        "#@title Crop the Image\n",
        "\n",
        "cropped = px_windowed[bb_y[0]:bb_y[1], bb_x[0]:bb_x[1]]\n",
        "plt.imshow(cropped);"
      ]
    },
    {
      "cell_type": "markdown",
      "metadata": {
        "id": "xlFDHRFlSDoZ"
      },
      "source": [
        "# Working with a Reduced Dataset"
      ]
    },
    {
      "cell_type": "code",
      "execution_count": null,
      "metadata": {
        "colab": {
          "base_uri": "https://localhost:8080/"
        },
        "id": "svnyDVq2NYxn",
        "outputId": "eebc24dd-2542-4082-f65c-cd9ff46e6288",
        "cellView": "form"
      },
      "outputs": [
        {
          "output_type": "stream",
          "name": "stdout",
          "text": [
            "Downloading rsna-hemorrhage-jpg.zip to /content\n",
            "100% 3.81G/3.82G [00:20<00:00, 187MB/s]\n",
            "100% 3.82G/3.82G [00:20<00:00, 198MB/s]\n"
          ]
        }
      ],
      "source": [
        "#@title Download a Reduced Dataset of JPEG Files\n",
        "\n",
        "#@markdown The following dataset was created by Jeremy Howard, cofounder of Kaggle and founder of fast.ai.\n",
        "#@markdown His intent was to provide folks with a reduced version of the RSNA Competition dataset to experiment with on the Kaggle platform.\n",
        "\n",
        "#@markdown This dataset was created by using the techniques above to:\n",
        "#@markdown 1. Take a representative sample of the original dataset.\n",
        "#@markdown 2. Rescale the data to a reasonable window.\n",
        "#@markdown 3. Resize the image files to a smaller, uniform size amenable to deep learning experiments.\n",
        "\n",
        "!kaggle datasets download -d jhoward/rsna-hemorrhage-jpg\n",
        "!unzip rsna-hemorrhage-jpg.zip > /dev/null\n",
        "!rm rsna-hemorrhage-jpg.zip"
      ]
    },
    {
      "cell_type": "code",
      "execution_count": null,
      "metadata": {
        "colab": {
          "base_uri": "https://localhost:8080/"
        },
        "id": "STWHy9whSp_t",
        "outputId": "9e986f0d-4131-44ef-e184-db141480e7fd",
        "cellView": "form"
      },
      "outputs": [
        {
          "output_type": "stream",
          "name": "stdout",
          "text": [
            "194082\n"
          ]
        }
      ],
      "source": [
        "#@title How many files are in the dataset?\n",
        "\n",
        "!ls train_jpg/train_jpg/ | wc -l"
      ]
    },
    {
      "cell_type": "code",
      "execution_count": null,
      "metadata": {
        "colab": {
          "base_uri": "https://localhost:8080/",
          "height": 299
        },
        "id": "hw5niAiYOp--",
        "outputId": "2eac2bfa-86cb-44e2-9730-be6a09297e1d",
        "cellView": "form"
      },
      "outputs": [
        {
          "output_type": "execute_result",
          "data": {
            "text/plain": [
              "   BitsAllocated  BitsStored  Columns  HighBit  ImageOrientationPatient  \\\n",
              "0             16          16      512       15                      1.0   \n",
              "1             16          12      512       11                      1.0   \n",
              "2             16          16      512       15                      1.0   \n",
              "3             16          16      512       15                      1.0   \n",
              "4             16          12      512       11                      1.0   \n",
              "\n",
              "   ImageOrientationPatient1  ImageOrientationPatient2  \\\n",
              "0                       0.0                       0.0   \n",
              "1                       0.0                       0.0   \n",
              "2                       0.0                       0.0   \n",
              "3                       0.0                       0.0   \n",
              "4                       0.0                       0.0   \n",
              "\n",
              "   ImageOrientationPatient3  ImageOrientationPatient4  \\\n",
              "0                       0.0                  0.927184   \n",
              "1                       0.0                  1.000000   \n",
              "2                       0.0                  1.000000   \n",
              "3                       0.0                  0.927184   \n",
              "4                       0.0                  1.000000   \n",
              "\n",
              "   ImageOrientationPatient5  ...  WindowCenter  WindowCenter1  WindowWidth  \\\n",
              "0                 -0.374607  ...          30.0            NaN         80.0   \n",
              "1                  0.000000  ...          36.0           36.0         80.0   \n",
              "2                  0.000000  ...          35.0            NaN        135.0   \n",
              "3                 -0.374607  ...          30.0            NaN         80.0   \n",
              "4                  0.000000  ...          36.0           36.0         80.0   \n",
              "\n",
              "  WindowWidth1                                              fname  img_max  \\\n",
              "0          NaN  /home/jhoward/data/rsna/stage_1_train_images/I...     2787   \n",
              "1         80.0  /home/jhoward/data/rsna/stage_1_train_images/I...     2412   \n",
              "2          NaN  /home/jhoward/data/rsna/stage_1_train_images/I...     2806   \n",
              "3          NaN  /home/jhoward/data/rsna/stage_1_train_images/I...     2795   \n",
              "4         80.0  /home/jhoward/data/rsna/stage_1_train_images/I...     2491   \n",
              "\n",
              "     img_mean  img_min  img_pct_window      img_std  \n",
              "0   35.112926    -2000        0.164139  1166.720843  \n",
              "1  234.549896        0        0.076015   392.132243  \n",
              "2  482.248981        0        0.241489   571.235614  \n",
              "3  106.237759    -2000        0.242466  1253.462451  \n",
              "4  536.799244        9        0.345436   568.654045  \n",
              "\n",
              "[5 rows x 42 columns]"
            ],
            "text/html": [
              "\n",
              "  <div id=\"df-f2b5bcda-3446-48a2-bceb-f0803285743a\">\n",
              "    <div class=\"colab-df-container\">\n",
              "      <div>\n",
              "<style scoped>\n",
              "    .dataframe tbody tr th:only-of-type {\n",
              "        vertical-align: middle;\n",
              "    }\n",
              "\n",
              "    .dataframe tbody tr th {\n",
              "        vertical-align: top;\n",
              "    }\n",
              "\n",
              "    .dataframe thead th {\n",
              "        text-align: right;\n",
              "    }\n",
              "</style>\n",
              "<table border=\"1\" class=\"dataframe\">\n",
              "  <thead>\n",
              "    <tr style=\"text-align: right;\">\n",
              "      <th></th>\n",
              "      <th>BitsAllocated</th>\n",
              "      <th>BitsStored</th>\n",
              "      <th>Columns</th>\n",
              "      <th>HighBit</th>\n",
              "      <th>ImageOrientationPatient</th>\n",
              "      <th>ImageOrientationPatient1</th>\n",
              "      <th>ImageOrientationPatient2</th>\n",
              "      <th>ImageOrientationPatient3</th>\n",
              "      <th>ImageOrientationPatient4</th>\n",
              "      <th>ImageOrientationPatient5</th>\n",
              "      <th>...</th>\n",
              "      <th>WindowCenter</th>\n",
              "      <th>WindowCenter1</th>\n",
              "      <th>WindowWidth</th>\n",
              "      <th>WindowWidth1</th>\n",
              "      <th>fname</th>\n",
              "      <th>img_max</th>\n",
              "      <th>img_mean</th>\n",
              "      <th>img_min</th>\n",
              "      <th>img_pct_window</th>\n",
              "      <th>img_std</th>\n",
              "    </tr>\n",
              "  </thead>\n",
              "  <tbody>\n",
              "    <tr>\n",
              "      <th>0</th>\n",
              "      <td>16</td>\n",
              "      <td>16</td>\n",
              "      <td>512</td>\n",
              "      <td>15</td>\n",
              "      <td>1.0</td>\n",
              "      <td>0.0</td>\n",
              "      <td>0.0</td>\n",
              "      <td>0.0</td>\n",
              "      <td>0.927184</td>\n",
              "      <td>-0.374607</td>\n",
              "      <td>...</td>\n",
              "      <td>30.0</td>\n",
              "      <td>NaN</td>\n",
              "      <td>80.0</td>\n",
              "      <td>NaN</td>\n",
              "      <td>/home/jhoward/data/rsna/stage_1_train_images/I...</td>\n",
              "      <td>2787</td>\n",
              "      <td>35.112926</td>\n",
              "      <td>-2000</td>\n",
              "      <td>0.164139</td>\n",
              "      <td>1166.720843</td>\n",
              "    </tr>\n",
              "    <tr>\n",
              "      <th>1</th>\n",
              "      <td>16</td>\n",
              "      <td>12</td>\n",
              "      <td>512</td>\n",
              "      <td>11</td>\n",
              "      <td>1.0</td>\n",
              "      <td>0.0</td>\n",
              "      <td>0.0</td>\n",
              "      <td>0.0</td>\n",
              "      <td>1.000000</td>\n",
              "      <td>0.000000</td>\n",
              "      <td>...</td>\n",
              "      <td>36.0</td>\n",
              "      <td>36.0</td>\n",
              "      <td>80.0</td>\n",
              "      <td>80.0</td>\n",
              "      <td>/home/jhoward/data/rsna/stage_1_train_images/I...</td>\n",
              "      <td>2412</td>\n",
              "      <td>234.549896</td>\n",
              "      <td>0</td>\n",
              "      <td>0.076015</td>\n",
              "      <td>392.132243</td>\n",
              "    </tr>\n",
              "    <tr>\n",
              "      <th>2</th>\n",
              "      <td>16</td>\n",
              "      <td>16</td>\n",
              "      <td>512</td>\n",
              "      <td>15</td>\n",
              "      <td>1.0</td>\n",
              "      <td>0.0</td>\n",
              "      <td>0.0</td>\n",
              "      <td>0.0</td>\n",
              "      <td>1.000000</td>\n",
              "      <td>0.000000</td>\n",
              "      <td>...</td>\n",
              "      <td>35.0</td>\n",
              "      <td>NaN</td>\n",
              "      <td>135.0</td>\n",
              "      <td>NaN</td>\n",
              "      <td>/home/jhoward/data/rsna/stage_1_train_images/I...</td>\n",
              "      <td>2806</td>\n",
              "      <td>482.248981</td>\n",
              "      <td>0</td>\n",
              "      <td>0.241489</td>\n",
              "      <td>571.235614</td>\n",
              "    </tr>\n",
              "    <tr>\n",
              "      <th>3</th>\n",
              "      <td>16</td>\n",
              "      <td>16</td>\n",
              "      <td>512</td>\n",
              "      <td>15</td>\n",
              "      <td>1.0</td>\n",
              "      <td>0.0</td>\n",
              "      <td>0.0</td>\n",
              "      <td>0.0</td>\n",
              "      <td>0.927184</td>\n",
              "      <td>-0.374607</td>\n",
              "      <td>...</td>\n",
              "      <td>30.0</td>\n",
              "      <td>NaN</td>\n",
              "      <td>80.0</td>\n",
              "      <td>NaN</td>\n",
              "      <td>/home/jhoward/data/rsna/stage_1_train_images/I...</td>\n",
              "      <td>2795</td>\n",
              "      <td>106.237759</td>\n",
              "      <td>-2000</td>\n",
              "      <td>0.242466</td>\n",
              "      <td>1253.462451</td>\n",
              "    </tr>\n",
              "    <tr>\n",
              "      <th>4</th>\n",
              "      <td>16</td>\n",
              "      <td>12</td>\n",
              "      <td>512</td>\n",
              "      <td>11</td>\n",
              "      <td>1.0</td>\n",
              "      <td>0.0</td>\n",
              "      <td>0.0</td>\n",
              "      <td>0.0</td>\n",
              "      <td>1.000000</td>\n",
              "      <td>0.000000</td>\n",
              "      <td>...</td>\n",
              "      <td>36.0</td>\n",
              "      <td>36.0</td>\n",
              "      <td>80.0</td>\n",
              "      <td>80.0</td>\n",
              "      <td>/home/jhoward/data/rsna/stage_1_train_images/I...</td>\n",
              "      <td>2491</td>\n",
              "      <td>536.799244</td>\n",
              "      <td>9</td>\n",
              "      <td>0.345436</td>\n",
              "      <td>568.654045</td>\n",
              "    </tr>\n",
              "  </tbody>\n",
              "</table>\n",
              "<p>5 rows × 42 columns</p>\n",
              "</div>\n",
              "      <button class=\"colab-df-convert\" onclick=\"convertToInteractive('df-f2b5bcda-3446-48a2-bceb-f0803285743a')\"\n",
              "              title=\"Convert this dataframe to an interactive table.\"\n",
              "              style=\"display:none;\">\n",
              "        \n",
              "  <svg xmlns=\"http://www.w3.org/2000/svg\" height=\"24px\"viewBox=\"0 0 24 24\"\n",
              "       width=\"24px\">\n",
              "    <path d=\"M0 0h24v24H0V0z\" fill=\"none\"/>\n",
              "    <path d=\"M18.56 5.44l.94 2.06.94-2.06 2.06-.94-2.06-.94-.94-2.06-.94 2.06-2.06.94zm-11 1L8.5 8.5l.94-2.06 2.06-.94-2.06-.94L8.5 2.5l-.94 2.06-2.06.94zm10 10l.94 2.06.94-2.06 2.06-.94-2.06-.94-.94-2.06-.94 2.06-2.06.94z\"/><path d=\"M17.41 7.96l-1.37-1.37c-.4-.4-.92-.59-1.43-.59-.52 0-1.04.2-1.43.59L10.3 9.45l-7.72 7.72c-.78.78-.78 2.05 0 2.83L4 21.41c.39.39.9.59 1.41.59.51 0 1.02-.2 1.41-.59l7.78-7.78 2.81-2.81c.8-.78.8-2.07 0-2.86zM5.41 20L4 18.59l7.72-7.72 1.47 1.35L5.41 20z\"/>\n",
              "  </svg>\n",
              "      </button>\n",
              "      \n",
              "  <style>\n",
              "    .colab-df-container {\n",
              "      display:flex;\n",
              "      flex-wrap:wrap;\n",
              "      gap: 12px;\n",
              "    }\n",
              "\n",
              "    .colab-df-convert {\n",
              "      background-color: #E8F0FE;\n",
              "      border: none;\n",
              "      border-radius: 50%;\n",
              "      cursor: pointer;\n",
              "      display: none;\n",
              "      fill: #1967D2;\n",
              "      height: 32px;\n",
              "      padding: 0 0 0 0;\n",
              "      width: 32px;\n",
              "    }\n",
              "\n",
              "    .colab-df-convert:hover {\n",
              "      background-color: #E2EBFA;\n",
              "      box-shadow: 0px 1px 2px rgba(60, 64, 67, 0.3), 0px 1px 3px 1px rgba(60, 64, 67, 0.15);\n",
              "      fill: #174EA6;\n",
              "    }\n",
              "\n",
              "    [theme=dark] .colab-df-convert {\n",
              "      background-color: #3B4455;\n",
              "      fill: #D2E3FC;\n",
              "    }\n",
              "\n",
              "    [theme=dark] .colab-df-convert:hover {\n",
              "      background-color: #434B5C;\n",
              "      box-shadow: 0px 1px 3px 1px rgba(0, 0, 0, 0.15);\n",
              "      filter: drop-shadow(0px 1px 2px rgba(0, 0, 0, 0.3));\n",
              "      fill: #FFFFFF;\n",
              "    }\n",
              "  </style>\n",
              "\n",
              "      <script>\n",
              "        const buttonEl =\n",
              "          document.querySelector('#df-f2b5bcda-3446-48a2-bceb-f0803285743a button.colab-df-convert');\n",
              "        buttonEl.style.display =\n",
              "          google.colab.kernel.accessAllowed ? 'block' : 'none';\n",
              "\n",
              "        async function convertToInteractive(key) {\n",
              "          const element = document.querySelector('#df-f2b5bcda-3446-48a2-bceb-f0803285743a');\n",
              "          const dataTable =\n",
              "            await google.colab.kernel.invokeFunction('convertToInteractive',\n",
              "                                                     [key], {});\n",
              "          if (!dataTable) return;\n",
              "\n",
              "          const docLinkHtml = 'Like what you see? Visit the ' +\n",
              "            '<a target=\"_blank\" href=https://colab.research.google.com/notebooks/data_table.ipynb>data table notebook</a>'\n",
              "            + ' to learn more about interactive tables.';\n",
              "          element.innerHTML = '';\n",
              "          dataTable['output_type'] = 'display_data';\n",
              "          await google.colab.output.renderOutput(dataTable, element);\n",
              "          const docLink = document.createElement('div');\n",
              "          docLink.innerHTML = docLinkHtml;\n",
              "          element.appendChild(docLink);\n",
              "        }\n",
              "      </script>\n",
              "    </div>\n",
              "  </div>\n",
              "  "
            ]
          },
          "metadata": {},
          "execution_count": 19
        }
      ],
      "source": [
        "#@title Loading the Metadata File\n",
        "\n",
        "#@markdown The `df_trn.fth` file includes a table of the image filenames and a subset of the data from the DICOM header, since JPEG files don't allow for the same structured metadata we get with DICOM.\n",
        "\n",
        "path_meta = '/content/meta/meta/'\n",
        "path_data = '/content/train_jpg/train_jpg/'\n",
        "\n",
        "train_df = pd.read_feather(os.path.join(path_meta, 'df_trn.fth'))\n",
        "train_df.head()"
      ]
    },
    {
      "cell_type": "code",
      "execution_count": null,
      "metadata": {
        "colab": {
          "base_uri": "https://localhost:8080/",
          "height": 577
        },
        "id": "H8qhpTE9PECx",
        "outputId": "87847d8b-4c81-4737-f7ab-795b3faf2862",
        "cellView": "form"
      },
      "outputs": [
        {
          "output_type": "stream",
          "name": "stdout",
          "text": [
            "Index(['BitsAllocated', 'BitsStored', 'Columns', 'HighBit',\n",
            "       'ImageOrientationPatient', 'ImageOrientationPatient1',\n",
            "       'ImageOrientationPatient2', 'ImageOrientationPatient3',\n",
            "       'ImageOrientationPatient4', 'ImageOrientationPatient5',\n",
            "       'ImagePositionPatient', 'ImagePositionPatient1',\n",
            "       'ImagePositionPatient2', 'Modality', 'MultiImageOrientationPatient',\n",
            "       'MultiImagePositionPatient', 'MultiPixelSpacing', 'MultiWindowCenter',\n",
            "       'MultiWindowWidth', 'PatientID', 'PhotometricInterpretation',\n",
            "       'PixelRepresentation', 'PixelSpacing', 'PixelSpacing1',\n",
            "       'RescaleIntercept', 'RescaleSlope', 'Rows', 'SOPInstanceUID',\n",
            "       'SamplesPerPixel', 'SeriesInstanceUID', 'StudyID', 'StudyInstanceUID',\n",
            "       'WindowCenter', 'WindowCenter1', 'WindowWidth', 'WindowWidth1', 'fname',\n",
            "       'img_max', 'img_mean', 'img_min', 'img_pct_window', 'img_std', 'any',\n",
            "       'epidural', 'intraparenchymal', 'intraventricular', 'subarachnoid',\n",
            "       'subdural'],\n",
            "      dtype='object')\n"
          ]
        },
        {
          "output_type": "execute_result",
          "data": {
            "text/plain": [
              "   BitsAllocated  BitsStored  Columns  HighBit  ImageOrientationPatient  \\\n",
              "0             16          16      512       15                      1.0   \n",
              "1             16          12      512       11                      1.0   \n",
              "2             16          16      512       15                      1.0   \n",
              "3             16          16      512       15                      1.0   \n",
              "4             16          12      512       11                      1.0   \n",
              "\n",
              "   ImageOrientationPatient1  ImageOrientationPatient2  \\\n",
              "0                       0.0                       0.0   \n",
              "1                       0.0                       0.0   \n",
              "2                       0.0                       0.0   \n",
              "3                       0.0                       0.0   \n",
              "4                       0.0                       0.0   \n",
              "\n",
              "   ImageOrientationPatient3  ImageOrientationPatient4  \\\n",
              "0                       0.0                  0.927184   \n",
              "1                       0.0                  1.000000   \n",
              "2                       0.0                  1.000000   \n",
              "3                       0.0                  0.927184   \n",
              "4                       0.0                  1.000000   \n",
              "\n",
              "   ImageOrientationPatient5  ...    img_mean  img_min  img_pct_window  \\\n",
              "0                 -0.374607  ...   35.112926    -2000        0.164139   \n",
              "1                  0.000000  ...  234.549896        0        0.076015   \n",
              "2                  0.000000  ...  482.248981        0        0.241489   \n",
              "3                 -0.374607  ...  106.237759    -2000        0.242466   \n",
              "4                  0.000000  ...  536.799244        9        0.345436   \n",
              "\n",
              "       img_std  any  epidural  intraparenchymal  intraventricular  \\\n",
              "0  1166.720843    0         0                 0                 0   \n",
              "1   392.132243    0         0                 0                 0   \n",
              "2   571.235614    1         0                 1                 1   \n",
              "3  1253.462451    1         0                 1                 0   \n",
              "4   568.654045    0         0                 0                 0   \n",
              "\n",
              "   subarachnoid subdural  \n",
              "0             0        0  \n",
              "1             0        0  \n",
              "2             0        0  \n",
              "3             0        0  \n",
              "4             0        0  \n",
              "\n",
              "[5 rows x 48 columns]"
            ],
            "text/html": [
              "\n",
              "  <div id=\"df-459b893c-410b-4616-807b-9ea071a19ba7\">\n",
              "    <div class=\"colab-df-container\">\n",
              "      <div>\n",
              "<style scoped>\n",
              "    .dataframe tbody tr th:only-of-type {\n",
              "        vertical-align: middle;\n",
              "    }\n",
              "\n",
              "    .dataframe tbody tr th {\n",
              "        vertical-align: top;\n",
              "    }\n",
              "\n",
              "    .dataframe thead th {\n",
              "        text-align: right;\n",
              "    }\n",
              "</style>\n",
              "<table border=\"1\" class=\"dataframe\">\n",
              "  <thead>\n",
              "    <tr style=\"text-align: right;\">\n",
              "      <th></th>\n",
              "      <th>BitsAllocated</th>\n",
              "      <th>BitsStored</th>\n",
              "      <th>Columns</th>\n",
              "      <th>HighBit</th>\n",
              "      <th>ImageOrientationPatient</th>\n",
              "      <th>ImageOrientationPatient1</th>\n",
              "      <th>ImageOrientationPatient2</th>\n",
              "      <th>ImageOrientationPatient3</th>\n",
              "      <th>ImageOrientationPatient4</th>\n",
              "      <th>ImageOrientationPatient5</th>\n",
              "      <th>...</th>\n",
              "      <th>img_mean</th>\n",
              "      <th>img_min</th>\n",
              "      <th>img_pct_window</th>\n",
              "      <th>img_std</th>\n",
              "      <th>any</th>\n",
              "      <th>epidural</th>\n",
              "      <th>intraparenchymal</th>\n",
              "      <th>intraventricular</th>\n",
              "      <th>subarachnoid</th>\n",
              "      <th>subdural</th>\n",
              "    </tr>\n",
              "  </thead>\n",
              "  <tbody>\n",
              "    <tr>\n",
              "      <th>0</th>\n",
              "      <td>16</td>\n",
              "      <td>16</td>\n",
              "      <td>512</td>\n",
              "      <td>15</td>\n",
              "      <td>1.0</td>\n",
              "      <td>0.0</td>\n",
              "      <td>0.0</td>\n",
              "      <td>0.0</td>\n",
              "      <td>0.927184</td>\n",
              "      <td>-0.374607</td>\n",
              "      <td>...</td>\n",
              "      <td>35.112926</td>\n",
              "      <td>-2000</td>\n",
              "      <td>0.164139</td>\n",
              "      <td>1166.720843</td>\n",
              "      <td>0</td>\n",
              "      <td>0</td>\n",
              "      <td>0</td>\n",
              "      <td>0</td>\n",
              "      <td>0</td>\n",
              "      <td>0</td>\n",
              "    </tr>\n",
              "    <tr>\n",
              "      <th>1</th>\n",
              "      <td>16</td>\n",
              "      <td>12</td>\n",
              "      <td>512</td>\n",
              "      <td>11</td>\n",
              "      <td>1.0</td>\n",
              "      <td>0.0</td>\n",
              "      <td>0.0</td>\n",
              "      <td>0.0</td>\n",
              "      <td>1.000000</td>\n",
              "      <td>0.000000</td>\n",
              "      <td>...</td>\n",
              "      <td>234.549896</td>\n",
              "      <td>0</td>\n",
              "      <td>0.076015</td>\n",
              "      <td>392.132243</td>\n",
              "      <td>0</td>\n",
              "      <td>0</td>\n",
              "      <td>0</td>\n",
              "      <td>0</td>\n",
              "      <td>0</td>\n",
              "      <td>0</td>\n",
              "    </tr>\n",
              "    <tr>\n",
              "      <th>2</th>\n",
              "      <td>16</td>\n",
              "      <td>16</td>\n",
              "      <td>512</td>\n",
              "      <td>15</td>\n",
              "      <td>1.0</td>\n",
              "      <td>0.0</td>\n",
              "      <td>0.0</td>\n",
              "      <td>0.0</td>\n",
              "      <td>1.000000</td>\n",
              "      <td>0.000000</td>\n",
              "      <td>...</td>\n",
              "      <td>482.248981</td>\n",
              "      <td>0</td>\n",
              "      <td>0.241489</td>\n",
              "      <td>571.235614</td>\n",
              "      <td>1</td>\n",
              "      <td>0</td>\n",
              "      <td>1</td>\n",
              "      <td>1</td>\n",
              "      <td>0</td>\n",
              "      <td>0</td>\n",
              "    </tr>\n",
              "    <tr>\n",
              "      <th>3</th>\n",
              "      <td>16</td>\n",
              "      <td>16</td>\n",
              "      <td>512</td>\n",
              "      <td>15</td>\n",
              "      <td>1.0</td>\n",
              "      <td>0.0</td>\n",
              "      <td>0.0</td>\n",
              "      <td>0.0</td>\n",
              "      <td>0.927184</td>\n",
              "      <td>-0.374607</td>\n",
              "      <td>...</td>\n",
              "      <td>106.237759</td>\n",
              "      <td>-2000</td>\n",
              "      <td>0.242466</td>\n",
              "      <td>1253.462451</td>\n",
              "      <td>1</td>\n",
              "      <td>0</td>\n",
              "      <td>1</td>\n",
              "      <td>0</td>\n",
              "      <td>0</td>\n",
              "      <td>0</td>\n",
              "    </tr>\n",
              "    <tr>\n",
              "      <th>4</th>\n",
              "      <td>16</td>\n",
              "      <td>12</td>\n",
              "      <td>512</td>\n",
              "      <td>11</td>\n",
              "      <td>1.0</td>\n",
              "      <td>0.0</td>\n",
              "      <td>0.0</td>\n",
              "      <td>0.0</td>\n",
              "      <td>1.000000</td>\n",
              "      <td>0.000000</td>\n",
              "      <td>...</td>\n",
              "      <td>536.799244</td>\n",
              "      <td>9</td>\n",
              "      <td>0.345436</td>\n",
              "      <td>568.654045</td>\n",
              "      <td>0</td>\n",
              "      <td>0</td>\n",
              "      <td>0</td>\n",
              "      <td>0</td>\n",
              "      <td>0</td>\n",
              "      <td>0</td>\n",
              "    </tr>\n",
              "  </tbody>\n",
              "</table>\n",
              "<p>5 rows × 48 columns</p>\n",
              "</div>\n",
              "      <button class=\"colab-df-convert\" onclick=\"convertToInteractive('df-459b893c-410b-4616-807b-9ea071a19ba7')\"\n",
              "              title=\"Convert this dataframe to an interactive table.\"\n",
              "              style=\"display:none;\">\n",
              "        \n",
              "  <svg xmlns=\"http://www.w3.org/2000/svg\" height=\"24px\"viewBox=\"0 0 24 24\"\n",
              "       width=\"24px\">\n",
              "    <path d=\"M0 0h24v24H0V0z\" fill=\"none\"/>\n",
              "    <path d=\"M18.56 5.44l.94 2.06.94-2.06 2.06-.94-2.06-.94-.94-2.06-.94 2.06-2.06.94zm-11 1L8.5 8.5l.94-2.06 2.06-.94-2.06-.94L8.5 2.5l-.94 2.06-2.06.94zm10 10l.94 2.06.94-2.06 2.06-.94-2.06-.94-.94-2.06-.94 2.06-2.06.94z\"/><path d=\"M17.41 7.96l-1.37-1.37c-.4-.4-.92-.59-1.43-.59-.52 0-1.04.2-1.43.59L10.3 9.45l-7.72 7.72c-.78.78-.78 2.05 0 2.83L4 21.41c.39.39.9.59 1.41.59.51 0 1.02-.2 1.41-.59l7.78-7.78 2.81-2.81c.8-.78.8-2.07 0-2.86zM5.41 20L4 18.59l7.72-7.72 1.47 1.35L5.41 20z\"/>\n",
              "  </svg>\n",
              "      </button>\n",
              "      \n",
              "  <style>\n",
              "    .colab-df-container {\n",
              "      display:flex;\n",
              "      flex-wrap:wrap;\n",
              "      gap: 12px;\n",
              "    }\n",
              "\n",
              "    .colab-df-convert {\n",
              "      background-color: #E8F0FE;\n",
              "      border: none;\n",
              "      border-radius: 50%;\n",
              "      cursor: pointer;\n",
              "      display: none;\n",
              "      fill: #1967D2;\n",
              "      height: 32px;\n",
              "      padding: 0 0 0 0;\n",
              "      width: 32px;\n",
              "    }\n",
              "\n",
              "    .colab-df-convert:hover {\n",
              "      background-color: #E2EBFA;\n",
              "      box-shadow: 0px 1px 2px rgba(60, 64, 67, 0.3), 0px 1px 3px 1px rgba(60, 64, 67, 0.15);\n",
              "      fill: #174EA6;\n",
              "    }\n",
              "\n",
              "    [theme=dark] .colab-df-convert {\n",
              "      background-color: #3B4455;\n",
              "      fill: #D2E3FC;\n",
              "    }\n",
              "\n",
              "    [theme=dark] .colab-df-convert:hover {\n",
              "      background-color: #434B5C;\n",
              "      box-shadow: 0px 1px 3px 1px rgba(0, 0, 0, 0.15);\n",
              "      filter: drop-shadow(0px 1px 2px rgba(0, 0, 0, 0.3));\n",
              "      fill: #FFFFFF;\n",
              "    }\n",
              "  </style>\n",
              "\n",
              "      <script>\n",
              "        const buttonEl =\n",
              "          document.querySelector('#df-459b893c-410b-4616-807b-9ea071a19ba7 button.colab-df-convert');\n",
              "        buttonEl.style.display =\n",
              "          google.colab.kernel.accessAllowed ? 'block' : 'none';\n",
              "\n",
              "        async function convertToInteractive(key) {\n",
              "          const element = document.querySelector('#df-459b893c-410b-4616-807b-9ea071a19ba7');\n",
              "          const dataTable =\n",
              "            await google.colab.kernel.invokeFunction('convertToInteractive',\n",
              "                                                     [key], {});\n",
              "          if (!dataTable) return;\n",
              "\n",
              "          const docLinkHtml = 'Like what you see? Visit the ' +\n",
              "            '<a target=\"_blank\" href=https://colab.research.google.com/notebooks/data_table.ipynb>data table notebook</a>'\n",
              "            + ' to learn more about interactive tables.';\n",
              "          element.innerHTML = '';\n",
              "          dataTable['output_type'] = 'display_data';\n",
              "          await google.colab.output.renderOutput(dataTable, element);\n",
              "          const docLink = document.createElement('div');\n",
              "          docLink.innerHTML = docLinkHtml;\n",
              "          element.appendChild(docLink);\n",
              "        }\n",
              "      </script>\n",
              "    </div>\n",
              "  </div>\n",
              "  "
            ]
          },
          "metadata": {},
          "execution_count": 20
        }
      ],
      "source": [
        "#@title Reading in the Combined Metadata & Label Table\n",
        "\n",
        "comb = pd.read_feather(os.path.join(path_meta, 'comb.fth'))\n",
        "print(comb.columns)\n",
        "comb.head()"
      ]
    },
    {
      "cell_type": "markdown",
      "metadata": {
        "id": "w7HTKdm4a-TD"
      },
      "source": [
        "# Gathering the Data into Datasets\n",
        "\n",
        "First, we'll gather the data into a special Pytorch _class_ called a `Dataset`. This will allow us to define custom functions for loading and preprocessing the data for input into the _deep neural network_ that we will train to predict whether hemorrhage is present in an image. A trained neural network will be referred to as a **model** as it represents one computational \"model\" of our dataset.\n",
        "\n",
        "> Notes:\n",
        "- We'll only focus on the \"any\" label in this demonstration, since we're not using enough data to reliably predict subtypes.\n",
        "- The data will be split into _training_, _validation_, and _test_ datasets. We'll explain more about the differences between these datasets as we go.\n",
        "- We'll examine the effect of class imbalance on our trained model's performance on a held-out test dataset."
      ]
    },
    {
      "cell_type": "code",
      "execution_count": null,
      "metadata": {
        "colab": {
          "base_uri": "https://localhost:8080/"
        },
        "id": "4h1titjcTBMp",
        "outputId": "0a96720d-7a39-49ac-c5f9-36eb0b272e68",
        "cellView": "form"
      },
      "outputs": [
        {
          "output_type": "stream",
          "name": "stdout",
          "text": [
            "Number of files: 194082\n"
          ]
        }
      ],
      "source": [
        "#@title Gather the Filenames from the Downloaded Dataset\n",
        "\n",
        "#@markdown The number of files downloaded will be printed out below.\n",
        "#@markdown This number should be `194082`.\n",
        "\n",
        "fns = glob.glob(f'{path_data}/*')\n",
        "print(\"Number of files:\", len(fns))"
      ]
    },
    {
      "cell_type": "code",
      "execution_count": null,
      "metadata": {
        "id": "QR4flZlPZl6B",
        "cellView": "form"
      },
      "outputs": [],
      "source": [
        "#@title Defining the Custom Pytorch Dataset\n",
        "\n",
        "#@markdown The code in this cell allows us create a Pytorch `Dataset` object that will perform preprocessing on the data to get it into the appropriate format for the model to process.\n",
        "#@markdown It will also allow us to associate the source images from our reduced dataset with the appropriate labels for presentation to the model during training.\n",
        "\n",
        "class HeadCTDataset(Dataset):\n",
        "    def __init__(self, fns, df, transforms=None):\n",
        "        self.fns = fns\n",
        "        self.ids = [f.rsplit('/')[-1].split('.')[0] for f in fns]\n",
        "        self.df = df\n",
        "        self.tfms = transforms\n",
        "\n",
        "    def __len__(self):\n",
        "        return len(self.fns)\n",
        "\n",
        "    def __getitem__(self, idx):\n",
        "        id = self.ids[idx]\n",
        "        fn = [f for f in self.fns if id in f][0]\n",
        "        x = Image.open(fn)\n",
        "        if self.tfms is not None:\n",
        "            x = self.tfms(x)\n",
        "        filt = self.df['fname'].str.contains(id)\n",
        "        y = self.df[filt]['any'].values[0]\n",
        "        return x, torch.tensor(y)\n"
      ]
    },
    {
      "cell_type": "code",
      "execution_count": null,
      "metadata": {
        "id": "G86czaDSdvvf",
        "colab": {
          "base_uri": "https://localhost:8080/",
          "height": 87,
          "referenced_widgets": [
            "cf3a4092b28642cfaf7a02170ceedf3d",
            "d4b462a0a0c1489d85b957edb1a1fb37",
            "b24e1d96de9040dd941e5c9cc14e538c",
            "b42fd4e0f4944c2bbb6c99800e3c7630",
            "bd366f0ed01e41df86de4065396bc37e",
            "7064aef1f0e24237acab34597232eab3",
            "88dc97c12b664e86942e362cb3debaf0",
            "b63db2959bb44bbe84dc7c8f1c7cfaa8",
            "94b326ff1b464942ac3dafbab85e47ba",
            "8a1eddc3715046c8b76ff46549b64ed5",
            "5c5082bb2dfd42d49f029e738f2e99c1"
          ]
        },
        "cellView": "form",
        "outputId": "58659904-201a-44bb-872b-cc4210099613"
      },
      "outputs": [
        {
          "output_type": "stream",
          "name": "stderr",
          "text": [
            "Downloading: \"https://download.pytorch.org/models/resnet18-f37072fd.pth\" to /root/.cache/torch/hub/checkpoints/resnet18-f37072fd.pth\n"
          ]
        },
        {
          "output_type": "display_data",
          "data": {
            "text/plain": [
              "  0%|          | 0.00/44.7M [00:00<?, ?B/s]"
            ],
            "application/vnd.jupyter.widget-view+json": {
              "version_major": 2,
              "version_minor": 0,
              "model_id": "cf3a4092b28642cfaf7a02170ceedf3d"
            }
          },
          "metadata": {}
        }
      ],
      "source": [
        "#@title Defining our Model Architecture\n",
        "\n",
        "#@markdown We will use a version of the ResNet-18 architecture, pretrained on ImageNet and modified to generate a binary prediciton (i.e. positive or negative for hemorrhage).\n",
        "\n",
        "#@markdown > Notes:\n",
        "#@markdown - ImageNet is a very large dataset of photographic images.\n",
        "#@markdown - Models pretrained on ImageNet are commonly used in a process called _transfer learning_, whereby the model is further trained (or \"fine-tuned\") on a smaller dataset.\n",
        "#@markdown - ResNet-18 is a much smaller architecture than is typically used for tasks of this type. \"Deeper\" architectures may provide more robust results for CT intracranial hemorrhage detection.\n",
        "\n",
        "class Model(nn.Module):\n",
        "    def __init__(self, arch=resnet18, num_classes=2):\n",
        "        super().__init__()\n",
        "        self.base = arch(pretrained=True)\n",
        "        self.base.fc = nn.Linear(in_features=512, out_features=num_classes)\n",
        "\n",
        "    def forward(self, x):\n",
        "        return self.base(x)\n",
        "\n",
        "model = Model()\n",
        "\n",
        "for param in model.parameters():\n",
        "    param.requires_grad = False\n",
        "\n",
        "for param in model.base.fc.parameters():\n",
        "    param.requires_grad = True"
      ]
    },
    {
      "cell_type": "code",
      "execution_count": null,
      "metadata": {
        "id": "x2a-DUXjf5mB",
        "cellView": "form"
      },
      "outputs": [],
      "source": [
        "#@title Experiment with Class Imbalance\n",
        "\n",
        "#@markdown By default, this cell is set to balanced positive and negative classes.\n",
        "#@markdown This means that there will be an equal number of positive and negative examples presented to the model during training.\n",
        "\n",
        "#@markdown You may also experiment with the number of samples presented to the model in each round (or _epoch_) of training.\n",
        "\n",
        "percent_positive = 0.5 #@param {type: \"slider\", min: 0.1, max: 0.9, step: 0.1}\n",
        "n_samples = 100 #@param {type: \"integer\"}\n",
        "\n",
        "tfms = Compose([\n",
        "                Resize((256, 256)),\n",
        "                ToTensor()\n",
        "])\n",
        "\n",
        "ds = HeadCTDataset(fns[:n_samples], comb, transforms=tfms)\n",
        "n_dev = int(n_samples * 0.8)\n",
        "n_train = int(n_dev * 0.75)\n",
        "dev_ds, test_ds = random_split(ds, [n_dev, n_samples - n_dev])\n",
        "train_ds, val_ds = random_split(dev_ds, [n_train, n_dev - n_train])\n",
        "\n",
        "pct_neg = 1 - percent_positive\n",
        "sampler = torch.utils.data.WeightedRandomSampler([pct_neg, percent_positive], n_samples)\n",
        "\n",
        "train_dl = DataLoader(train_ds, batch_size=32, sampler=sampler)\n",
        "val_dl = DataLoader(val_ds, batch_size=32)\n",
        "test_dl = DataLoader(test_ds, batch_size=32)"
      ]
    },
    {
      "cell_type": "code",
      "execution_count": null,
      "metadata": {
        "id": "whMEZvvmQlsn",
        "colab": {
          "base_uri": "https://localhost:8080/"
        },
        "outputId": "f619bf85-af06-4d47-8543-5adee5b67f03",
        "cellView": "form"
      },
      "outputs": [
        {
          "output_type": "stream",
          "name": "stdout",
          "text": [
            "Epoch 1/5\n",
            "--------\n",
            "Avg training loss: 0.4596\n",
            "Avg validation loss: 1.0097\n",
            "Validation accuracy: 0.4500\n",
            "----------------\n",
            "Epoch 2/5\n",
            "--------\n",
            "Avg training loss: 0.1078\n",
            "Avg validation loss: 1.5652\n",
            "Validation accuracy: 0.4500\n",
            "----------------\n",
            "Epoch 3/5\n",
            "--------\n",
            "Avg training loss: 0.0299\n",
            "Avg validation loss: 2.1220\n",
            "Validation accuracy: 0.4500\n",
            "----------------\n",
            "Epoch 4/5\n",
            "--------\n",
            "Avg training loss: 0.0122\n",
            "Avg validation loss: 2.5814\n",
            "Validation accuracy: 0.4500\n",
            "----------------\n",
            "Epoch 5/5\n",
            "--------\n",
            "Avg training loss: 0.0061\n",
            "Avg validation loss: 2.9602\n",
            "Validation accuracy: 0.4500\n",
            "----------------\n",
            "Best accuracy 0.4500 achieved at Epoch 1.\n"
          ]
        }
      ],
      "source": [
        "#@title Running the Training Experiment\n",
        "\n",
        "#@markdown Here, we define the _training and validation loops_, where we will iterate over the data in each split to train the model.\n",
        "\n",
        "#@markdown In the training loop, we will update the _parameters_ (a.k.a. weights) of our model's final layer.\n",
        "#@markdown This is referred to as _transfer learning_, as we are transferring the features learned from ImageNet to another task.\n",
        "\n",
        "#@markdown For validation, the parameters are fixed, so the model does not learn _directly_ from the validation data.\n",
        "#@markdown Still, we maintain a 3rd data split, the held-out test set for analyzing the model's final performance, as we can indirectly learn from the validation set as we update our hyperparameters to train a better model.\n",
        "\n",
        "#@markdown Below, you may choose a number of _epochs_ or times we will repeat the training and validation processes.\n",
        "#@markdown > _Hint:_ More epochs are not always better as a model can memorize the training data over time, resulting in worse performance on the validation and test sets.\n",
        "\n",
        "n_epochs = 5 #@param {type: \"integer\"}\n",
        "\n",
        "# Initialize loss and optimizer\n",
        "model = model.cuda()\n",
        "loss_func = nn.BCEWithLogitsLoss()\n",
        "optimizer = torch.optim.Adam(model.parameters(), lr=0.001)\n",
        "\n",
        "def train(train_data, model, loss_func, optimizer):\n",
        "    model.train()\n",
        "    running_loss = 0.0\n",
        "    steps = 0\n",
        "    for imgs, targs in train_data:\n",
        "        steps += 1\n",
        "        imgs, targs = imgs.cuda(), targs.cuda()\n",
        "        optimizer.zero_grad()\n",
        "        outputs = model(imgs)\n",
        "        loss = loss_func(outputs[:, 1], targs.float())\n",
        "        loss.backward()\n",
        "        optimizer.step()\n",
        "        running_loss += loss.item()\n",
        "        print(\"Avg training loss:\", running_loss/steps, end='\\r')\n",
        "    return running_loss/steps\n",
        "\n",
        "def validate(val_data, model, loss_func):\n",
        "    model.eval()\n",
        "    running_loss = 0.0\n",
        "    steps = 0\n",
        "    y_hats = []\n",
        "    ys = []\n",
        "    with torch.no_grad():\n",
        "        for imgs, targs in val_data:\n",
        "            steps += 1\n",
        "            imgs, targs = imgs.cuda(), targs.cuda()\n",
        "            preds = model(imgs)[:, 1]\n",
        "            loss = loss_func(preds, targs.float())\n",
        "            y_hats.extend(preds.tolist())\n",
        "            ys.extend(targs.tolist())\n",
        "            running_loss += loss.item()\n",
        "            print(\"Avg validation loss:\", running_loss/steps, end='\\r')\n",
        "    return running_loss/steps, y_hats, ys\n",
        "\n",
        "best_metric = 0\n",
        "best_epoch = 0\n",
        "metrics = defaultdict(list)\n",
        "\n",
        "for epoch in range(n_epochs):\n",
        "    print(f'Epoch {epoch+1}/{n_epochs}')\n",
        "    print(\"-\" * 8)\n",
        "    metrics['Epoch'].append(epoch+1)\n",
        "    # Training loop\n",
        "    train_loss = train(train_dl, model, loss_func, optimizer)\n",
        "    metrics['Training loss'].append(train_loss)\n",
        "    print(f'Avg training loss: {train_loss:.4f}')\n",
        "    # Validation loop\n",
        "    val_loss, y_hats, ys = validate(val_dl, model, loss_func)\n",
        "    metrics['Validation loss'].append(val_loss)\n",
        "    print(f'Avg validation loss: {val_loss:.4f}')\n",
        "    y_preds = [1 if y > 0.5 else 0 for y in y_hats]\n",
        "    val_acc = accuracy_score(ys, y_preds)\n",
        "    metrics['Validation accuracy'].append(val_acc)\n",
        "    print(f'Validation accuracy: {val_acc:.2f}')\n",
        "    if val_acc > best_metric:\n",
        "        best_metric = val_acc\n",
        "        best_epoch = epoch+1\n",
        "        torch.save(model.state_dict(), 'best_model.pth')\n",
        "    print(\"-\" * 16)\n",
        "\n",
        "print(f'Best accuracy {best_metric:.2f} achieved at Epoch {best_epoch}.')\n"
      ]
    },
    {
      "cell_type": "code",
      "source": [
        "#@title Examine the Training Curves\n",
        "\n",
        "#@markdown The output above shows us how the training progressed over our pre-specified number of epochs.\n",
        "#@markdown However, it can be helpful to visualize this by plotting the **training curves**, i.e. the training and validation losses over time.\n",
        "\n",
        "#@markdown When the validation loss starts to go up, even as the training loss is decreasing, we say that a model is **overfitting**.\n",
        "\n",
        "fig, ax = plt.subplots(1, 1, figsize=(8,4))\n",
        "ax.set_title(\"Training & Validation Loss\")\n",
        "ax.plot(metrics['Epoch'], metrics['Training loss'], label=\"Train loss\")\n",
        "ax.plot(metrics['Epoch'], metrics['Validation loss'], label=\"Valid loss\")\n",
        "ax.set_xlabel('Epoch')\n",
        "ax.set_ylabel('Loss')\n",
        "ax.legend()\n",
        "fig.show();"
      ],
      "metadata": {
        "id": "_2Ie-3NKtqQr",
        "colab": {
          "base_uri": "https://localhost:8080/",
          "height": 295
        },
        "cellView": "form",
        "outputId": "7c5d4f13-e861-49a9-acd2-8bc891ae4e10"
      },
      "execution_count": null,
      "outputs": [
        {
          "output_type": "display_data",
          "data": {
            "text/plain": [
              "<Figure size 576x288 with 1 Axes>"
            ],
            "image/png": "[encoded data removed]"
          },
          "metadata": {
            "needs_background": "light"
          }
        }
      ]
    },
    {
      "cell_type": "code",
      "source": [
        "#@title Test the Model on the Held-out Test Set\n",
        "\n",
        "#@markdown Finally, we want to take a look at the performance on the held-out test set.\n",
        "#@markdown If there is a significant drop in accuracy on the test set, then we know our model has overfit to the training data and won't generalize well to new data.\n",
        "\n",
        "#@markdown Adding more data and more heterogeneous data (from different populations and demographics) can help quite a bit in training a better model.\n",
        "#@markdown Other things we can do to achieve better model performance include techniques such as data augmentation to **regularize** the model, i.e. keep it from overfitting.\n",
        "\n",
        "model.load_state_dict(torch.load(\"best_model.pth\"))\n",
        "test_loss, y_hats, ys = validate(test_dl, model, loss_func)\n",
        "print(f'Test loss: {test_loss:.4f}')\n",
        "y_preds = [1 if y > 0.5 else 0 for y in y_hats]\n",
        "test_acc = accuracy_score(ys, y_preds)\n",
        "print(f'Test accuracy: {test_acc:.2f}')\n"
      ],
      "metadata": {
        "colab": {
          "base_uri": "https://localhost:8080/"
        },
        "id": "tw6i9pEPs0MX",
        "outputId": "dc2eafea-2d27-42d1-f7cc-af295c819c25",
        "cellView": "form"
      },
      "execution_count": null,
      "outputs": [
        {
          "output_type": "stream",
          "name": "stdout",
          "text": [
            "Avg validation loss: 1.0002710819244385\rTest loss: 1.0003\n",
            "Test accuracy: 0.4000\n"
          ]
        }
      ]
    },
    {
      "cell_type": "code",
      "source": [
        "#@title\n"
      ],
      "metadata": {
        "id": "Y9LV_IAIy5j4",
        "cellView": "form"
      },
      "execution_count": null,
      "outputs": []
    }
  ],
  "metadata": {
    "accelerator": "GPU",
    "colab": {
      "collapsed_sections": [],
      "name": "ASNR_ICH_Demo.ipynb",
      "provenance": [],
      "authorship_tag": "ABX9TyM4QE3TuK8wPuVGk+ATZSeY",
      "include_colab_link": true
    },
    "kernelspec": {
      "display_name": "Python 3",
      "name": "python3"
    },
    "language_info": {
      "name": "python"
    },
    "widgets": {
      "application/vnd.jupyter.widget-state+json": {
        "cf3a4092b28642cfaf7a02170ceedf3d": {
          "model_module": "@jupyter-widgets/controls",
          "model_name": "HBoxModel",
          "model_module_version": "1.5.0",
          "state": {
            "_dom_classes": [],
            "_model_module": "@jupyter-widgets/controls",
            "_model_module_version": "1.5.0",
            "_model_name": "HBoxModel",
            "_view_count": null,
            "_view_module": "@jupyter-widgets/controls",
            "_view_module_version": "1.5.0",
            "_view_name": "HBoxView",
            "box_style": "",
            "children": [
              "IPY_MODEL_d4b462a0a0c1489d85b957edb1a1fb37",
              "IPY_MODEL_b24e1d96de9040dd941e5c9cc14e538c",
              "IPY_MODEL_b42fd4e0f4944c2bbb6c99800e3c7630"
            ],
            "layout": "IPY_MODEL_bd366f0ed01e41df86de4065396bc37e"
          }
        },
        "d4b462a0a0c1489d85b957edb1a1fb37": {
          "model_module": "@jupyter-widgets/controls",
          "model_name": "HTMLModel",
          "model_module_version": "1.5.0",
          "state": {
            "_dom_classes": [],
            "_model_module": "@jupyter-widgets/controls",
            "_model_module_version": "1.5.0",
            "_model_name": "HTMLModel",
            "_view_count": null,
            "_view_module": "@jupyter-widgets/controls",
            "_view_module_version": "1.5.0",
            "_view_name": "HTMLView",
            "description": "",
            "description_tooltip": null,
            "layout": "IPY_MODEL_7064aef1f0e24237acab34597232eab3",
            "placeholder": "​",
            "style": "IPY_MODEL_88dc97c12b664e86942e362cb3debaf0",
            "value": "100%"
          }
        },
        "b24e1d96de9040dd941e5c9cc14e538c": {
          "model_module": "@jupyter-widgets/controls",
          "model_name": "FloatProgressModel",
          "model_module_version": "1.5.0",
          "state": {
            "_dom_classes": [],
            "_model_module": "@jupyter-widgets/controls",
            "_model_module_version": "1.5.0",
            "_model_name": "FloatProgressModel",
            "_view_count": null,
            "_view_module": "@jupyter-widgets/controls",
            "_view_module_version": "1.5.0",
            "_view_name": "ProgressView",
            "bar_style": "success",
            "description": "",
            "description_tooltip": null,
            "layout": "IPY_MODEL_b63db2959bb44bbe84dc7c8f1c7cfaa8",
            "max": 46830571,
            "min": 0,
            "orientation": "horizontal",
            "style": "IPY_MODEL_94b326ff1b464942ac3dafbab85e47ba",
            "value": 46830571
          }
        },
        "b42fd4e0f4944c2bbb6c99800e3c7630": {
          "model_module": "@jupyter-widgets/controls",
          "model_name": "HTMLModel",
          "model_module_version": "1.5.0",
          "state": {
            "_dom_classes": [],
            "_model_module": "@jupyter-widgets/controls",
            "_model_module_version": "1.5.0",
            "_model_name": "HTMLModel",
            "_view_count": null,
            "_view_module": "@jupyter-widgets/controls",
            "_view_module_version": "1.5.0",
            "_view_name": "HTMLView",
            "description": "",
            "description_tooltip": null,
            "layout": "IPY_MODEL_8a1eddc3715046c8b76ff46549b64ed5",
            "placeholder": "​",
            "style": "IPY_MODEL_5c5082bb2dfd42d49f029e738f2e99c1",
            "value": " 44.7M/44.7M [00:00&lt;00:00, 89.8MB/s]"
          }
        },
        "bd366f0ed01e41df86de4065396bc37e": {
          "model_module": "@jupyter-widgets/base",
          "model_name": "LayoutModel",
          "model_module_version": "1.2.0",
          "state": {
            "_model_module": "@jupyter-widgets/base",
            "_model_module_version": "1.2.0",
            "_model_name": "LayoutModel",
            "_view_count": null,
            "_view_module": "@jupyter-widgets/base",
            "_view_module_version": "1.2.0",
            "_view_name": "LayoutView",
            "align_content": null,
            "align_items": null,
            "align_self": null,
            "border": null,
            "bottom": null,
            "display": null,
            "flex": null,
            "flex_flow": null,
            "grid_area": null,
            "grid_auto_columns": null,
            "grid_auto_flow": null,
            "grid_auto_rows": null,
            "grid_column": null,
            "grid_gap": null,
            "grid_row": null,
            "grid_template_areas": null,
            "grid_template_columns": null,
            "grid_template_rows": null,
            "height": null,
            "justify_content": null,
            "justify_items": null,
            "left": null,
            "margin": null,
            "max_height": null,
            "max_width": null,
            "min_height": null,
            "min_width": null,
            "object_fit": null,
            "object_position": null,
            "order": null,
            "overflow": null,
            "overflow_x": null,
            "overflow_y": null,
            "padding": null,
            "right": null,
            "top": null,
            "visibility": null,
            "width": null
          }
        },
        "7064aef1f0e24237acab34597232eab3": {
          "model_module": "@jupyter-widgets/base",
          "model_name": "LayoutModel",
          "model_module_version": "1.2.0",
          "state": {
            "_model_module": "@jupyter-widgets/base",
            "_model_module_version": "1.2.0",
            "_model_name": "LayoutModel",
            "_view_count": null,
            "_view_module": "@jupyter-widgets/base",
            "_view_module_version": "1.2.0",
            "_view_name": "LayoutView",
            "align_content": null,
            "align_items": null,
            "align_self": null,
            "border": null,
            "bottom": null,
            "display": null,
            "flex": null,
            "flex_flow": null,
            "grid_area": null,
            "grid_auto_columns": null,
            "grid_auto_flow": null,
            "grid_auto_rows": null,
            "grid_column": null,
            "grid_gap": null,
            "grid_row": null,
            "grid_template_areas": null,
            "grid_template_columns": null,
            "grid_template_rows": null,
            "height": null,
            "justify_content": null,
            "justify_items": null,
            "left": null,
            "margin": null,
            "max_height": null,
            "max_width": null,
            "min_height": null,
            "min_width": null,
            "object_fit": null,
            "object_position": null,
            "order": null,
            "overflow": null,
            "overflow_x": null,
            "overflow_y": null,
            "padding": null,
            "right": null,
            "top": null,
            "visibility": null,
            "width": null
          }
        },
        "88dc97c12b664e86942e362cb3debaf0": {
          "model_module": "@jupyter-widgets/controls",
          "model_name": "DescriptionStyleModel",
          "model_module_version": "1.5.0",
          "state": {
            "_model_module": "@jupyter-widgets/controls",
            "_model_module_version": "1.5.0",
            "_model_name": "DescriptionStyleModel",
            "_view_count": null,
            "_view_module": "@jupyter-widgets/base",
            "_view_module_version": "1.2.0",
            "_view_name": "StyleView",
            "description_width": ""
          }
        },
        "b63db2959bb44bbe84dc7c8f1c7cfaa8": {
          "model_module": "@jupyter-widgets/base",
          "model_name": "LayoutModel",
          "model_module_version": "1.2.0",
          "state": {
            "_model_module": "@jupyter-widgets/base",
            "_model_module_version": "1.2.0",
            "_model_name": "LayoutModel",
            "_view_count": null,
            "_view_module": "@jupyter-widgets/base",
            "_view_module_version": "1.2.0",
            "_view_name": "LayoutView",
            "align_content": null,
            "align_items": null,
            "align_self": null,
            "border": null,
            "bottom": null,
            "display": null,
            "flex": null,
            "flex_flow": null,
            "grid_area": null,
            "grid_auto_columns": null,
            "grid_auto_flow": null,
            "grid_auto_rows": null,
            "grid_column": null,
            "grid_gap": null,
            "grid_row": null,
            "grid_template_areas": null,
            "grid_template_columns": null,
            "grid_template_rows": null,
            "height": null,
            "justify_content": null,
            "justify_items": null,
            "left": null,
            "margin": null,
            "max_height": null,
            "max_width": null,
            "min_height": null,
            "min_width": null,
            "object_fit": null,
            "object_position": null,
            "order": null,
            "overflow": null,
            "overflow_x": null,
            "overflow_y": null,
            "padding": null,
            "right": null,
            "top": null,
            "visibility": null,
            "width": null
          }
        },
        "94b326ff1b464942ac3dafbab85e47ba": {
          "model_module": "@jupyter-widgets/controls",
          "model_name": "ProgressStyleModel",
          "model_module_version": "1.5.0",
          "state": {
            "_model_module": "@jupyter-widgets/controls",
            "_model_module_version": "1.5.0",
            "_model_name": "ProgressStyleModel",
            "_view_count": null,
            "_view_module": "@jupyter-widgets/base",
            "_view_module_version": "1.2.0",
            "_view_name": "StyleView",
            "bar_color": null,
            "description_width": ""
          }
        },
        "8a1eddc3715046c8b76ff46549b64ed5": {
          "model_module": "@jupyter-widgets/base",
          "model_name": "LayoutModel",
          "model_module_version": "1.2.0",
          "state": {
            "_model_module": "@jupyter-widgets/base",
            "_model_module_version": "1.2.0",
            "_model_name": "LayoutModel",
            "_view_count": null,
            "_view_module": "@jupyter-widgets/base",
            "_view_module_version": "1.2.0",
            "_view_name": "LayoutView",
            "align_content": null,
            "align_items": null,
            "align_self": null,
            "border": null,
            "bottom": null,
            "display": null,
            "flex": null,
            "flex_flow": null,
            "grid_area": null,
            "grid_auto_columns": null,
            "grid_auto_flow": null,
            "grid_auto_rows": null,
            "grid_column": null,
            "grid_gap": null,
            "grid_row": null,
            "grid_template_areas": null,
            "grid_template_columns": null,
            "grid_template_rows": null,
            "height": null,
            "justify_content": null,
            "justify_items": null,
            "left": null,
            "margin": null,
            "max_height": null,
            "max_width": null,
            "min_height": null,
            "min_width": null,
            "object_fit": null,
            "object_position": null,
            "order": null,
            "overflow": null,
            "overflow_x": null,
            "overflow_y": null,
            "padding": null,
            "right": null,
            "top": null,
            "visibility": null,
            "width": null
          }
        },
        "5c5082bb2dfd42d49f029e738f2e99c1": {
          "model_module": "@jupyter-widgets/controls",
          "model_name": "DescriptionStyleModel",
          "model_module_version": "1.5.0",
          "state": {
            "_model_module": "@jupyter-widgets/controls",
            "_model_module_version": "1.5.0",
            "_model_name": "DescriptionStyleModel",
            "_view_count": null,
            "_view_module": "@jupyter-widgets/base",
            "_view_module_version": "1.2.0",
            "_view_name": "StyleView",
            "description_width": ""
          }
        }
      }
    }
  },
  "nbformat": 4,
  "nbformat_minor": 0
}